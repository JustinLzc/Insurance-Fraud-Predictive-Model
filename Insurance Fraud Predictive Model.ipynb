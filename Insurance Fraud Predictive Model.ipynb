{
 "cells": [
  {
   "attachments": {},
   "cell_type": "markdown",
   "metadata": {},
   "source": [
    "# Insurance Fraud Predictive Model"
   ]
  },
  {
   "cell_type": "markdown",
   "metadata": {},
   "source": [
    "## Case Study\n",
    "\n",
    "An insurance company plans to utilise their historic insurance fraud dataset to predict the likelihood or the level of risk a customer poses. Referring genuine claims cause customer stress and directly leads to customer loss, costing the company money (assume that any referred non-fraud case will lead to losing that customer). While obviously, fraud claims cost the company as well. Their main requirement is to use an unbiased predictive model capable of flagging and referring potential fraud cases for further investigation with a balanced error rate of 5% "
   ]
  },
  {
   "attachments": {},
   "cell_type": "markdown",
   "metadata": {},
   "source": [
    "## 1. Aims and objectives"
   ]
  },
  {
   "attachments": {},
   "cell_type": "markdown",
   "metadata": {},
   "source": [
    "### a) Aims and objectives"
   ]
  },
  {
   "attachments": {},
   "cell_type": "markdown",
   "metadata": {},
   "source": [
    "Aim:\n",
    "\n",
    "The aim of this case study analysis is to develop an unbiased predictive model capable of identifying potential fraud cases in insurance claims with a balanced error rate of 5%. This would assist in minimizing the cost of false positives (referring genuine claims, leading to customer loss) and false negatives (not identifying fraudulent claims).\n",
    "\n",
    "Objectives:\n",
    "\n",
    "Data Understanding and Preparation: Analyze the given dataset and extract key insights from the historic insurance fraud dataset. Preprocess and clean the data, ensuring it is suitable for further analysis. Merge all necessary files to form a unified dataset.\n",
    "\n",
    "Model Development: Build a predictive model utilizing Machine Learning techniques to forecast the likelihood of fraudulent cases. Here, both accuracy (model's performance) and fairness (unbiased decision-making) should be considered.\n",
    "\n",
    "Evaluation: Use appropriate metrics for model evaluation. The goal is to maintain an error rate of 5% or less, as specified by the client.\n"
   ]
  },
  {
   "attachments": {},
   "cell_type": "markdown",
   "metadata": {},
   "source": [
    "## 2. Understanding the case study "
   ]
  },
  {
   "attachments": {},
   "cell_type": "markdown",
   "metadata": {},
   "source": [
    "###  Case study analysis\n",
    "\n",
    "1. The insurance company wants to predict the likelihood of a customer posing a risk of insurance fraud. The aim is to use an unbiased predictive model to flag potential fraud cases for further investigation\n",
    "2. The company desires a balanced error rate of 5%. This means that the model should aim to have an equal number of false positives and false negatives, with the total error not exceeding 5%.\n",
    "3. There are significant costs associated with both types of errors. False positives (referring genuine claims as fraudulent) can lead to customer loss, while false negatives (failing to identify actual fraudulent claims) result in financial loss to the company.\n",
    "4. Ensure the model is unbiased by carefully selecting features for prediction and ensuring they do not indirectly encode any form of bias\n",
    "\n"
   ]
  },
  {
   "attachments": {},
   "cell_type": "markdown",
   "metadata": {},
   "source": [
    "## 3. Pre-processing applied \n"
   ]
  },
  {
   "cell_type": "code",
   "execution_count": 1,
   "metadata": {},
   "outputs": [],
   "source": [
    "\n",
    "import pandas as pd\n",
    "import numpy as np\n",
    "from sklearn.preprocessing import LabelEncoder\n",
    "import matplotlib.pyplot as plt\n",
    "from sklearn.feature_selection import mutual_info_classif\n",
    "from sklearn.linear_model import LinearRegression\n",
    "from sklearn.compose import ColumnTransformer\n",
    "from sklearn.pipeline import Pipeline\n",
    "from sklearn.impute import SimpleImputer\n",
    "from sklearn.preprocessing import StandardScaler, OneHotEncoder\n",
    "from sklearn.ensemble import RandomForestClassifier\n",
    "from sklearn.model_selection import train_test_split\n",
    "from sklearn.linear_model import LogisticRegression\n",
    "from sklearn.model_selection import cross_val_score ,KFold\n",
    "from sklearn.model_selection import GridSearchCV\n",
    "from sklearn.metrics import confusion_matrix\n",
    "import seaborn as sns\n",
    "from sklearn.metrics import accuracy_score\n",
    "from sklearn.metrics import precision_score, recall_score, f1_score\n",
    "from sklearn.metrics import classification_report"
   ]
  },
  {
   "cell_type": "code",
   "execution_count": 2,
   "metadata": {},
   "outputs": [
    {
     "data": {
      "text/html": [
       "<div>\n",
       "<style scoped>\n",
       "    .dataframe tbody tr th:only-of-type {\n",
       "        vertical-align: middle;\n",
       "    }\n",
       "\n",
       "    .dataframe tbody tr th {\n",
       "        vertical-align: top;\n",
       "    }\n",
       "\n",
       "    .dataframe thead th {\n",
       "        text-align: right;\n",
       "    }\n",
       "</style>\n",
       "<table border=\"1\" class=\"dataframe\">\n",
       "  <thead>\n",
       "    <tr style=\"text-align: right;\">\n",
       "      <th></th>\n",
       "      <th>CustomerID</th>\n",
       "      <th>InsuredAge</th>\n",
       "      <th>InsuredZipCode</th>\n",
       "      <th>InsuredGender</th>\n",
       "      <th>InsuredEducationLevel</th>\n",
       "      <th>InsuredOccupation</th>\n",
       "      <th>InsuredHobbies</th>\n",
       "      <th>CapitalGains</th>\n",
       "      <th>CapitalLoss</th>\n",
       "      <th>Country</th>\n",
       "      <th>...</th>\n",
       "      <th>BodilyInjuries</th>\n",
       "      <th>Witnesses</th>\n",
       "      <th>PoliceReport</th>\n",
       "      <th>AmountOfTotalClaim</th>\n",
       "      <th>AmountOfInjuryClaim</th>\n",
       "      <th>AmountOfPropertyClaim</th>\n",
       "      <th>AmountOfVehicleDamage</th>\n",
       "      <th>VehicleAttribute</th>\n",
       "      <th>VehicleAttributeDetails</th>\n",
       "      <th>ReportedFraud</th>\n",
       "    </tr>\n",
       "  </thead>\n",
       "  <tbody>\n",
       "    <tr>\n",
       "      <th>0</th>\n",
       "      <td>Cust10000</td>\n",
       "      <td>35</td>\n",
       "      <td>454776</td>\n",
       "      <td>MALE</td>\n",
       "      <td>JD</td>\n",
       "      <td>armed-forces</td>\n",
       "      <td>movies</td>\n",
       "      <td>56700</td>\n",
       "      <td>-48500</td>\n",
       "      <td>India</td>\n",
       "      <td>...</td>\n",
       "      <td>1</td>\n",
       "      <td>0</td>\n",
       "      <td>?</td>\n",
       "      <td>65501</td>\n",
       "      <td>13417</td>\n",
       "      <td>6071</td>\n",
       "      <td>46013</td>\n",
       "      <td>VehicleID</td>\n",
       "      <td>Vehicle26917</td>\n",
       "      <td>N</td>\n",
       "    </tr>\n",
       "    <tr>\n",
       "      <th>1</th>\n",
       "      <td>Cust10000</td>\n",
       "      <td>35</td>\n",
       "      <td>454776</td>\n",
       "      <td>MALE</td>\n",
       "      <td>JD</td>\n",
       "      <td>armed-forces</td>\n",
       "      <td>movies</td>\n",
       "      <td>56700</td>\n",
       "      <td>-48500</td>\n",
       "      <td>India</td>\n",
       "      <td>...</td>\n",
       "      <td>1</td>\n",
       "      <td>0</td>\n",
       "      <td>?</td>\n",
       "      <td>65501</td>\n",
       "      <td>13417</td>\n",
       "      <td>6071</td>\n",
       "      <td>46013</td>\n",
       "      <td>VehicleModel</td>\n",
       "      <td>A5</td>\n",
       "      <td>N</td>\n",
       "    </tr>\n",
       "    <tr>\n",
       "      <th>2</th>\n",
       "      <td>Cust10000</td>\n",
       "      <td>35</td>\n",
       "      <td>454776</td>\n",
       "      <td>MALE</td>\n",
       "      <td>JD</td>\n",
       "      <td>armed-forces</td>\n",
       "      <td>movies</td>\n",
       "      <td>56700</td>\n",
       "      <td>-48500</td>\n",
       "      <td>India</td>\n",
       "      <td>...</td>\n",
       "      <td>1</td>\n",
       "      <td>0</td>\n",
       "      <td>?</td>\n",
       "      <td>65501</td>\n",
       "      <td>13417</td>\n",
       "      <td>6071</td>\n",
       "      <td>46013</td>\n",
       "      <td>VehicleYOM</td>\n",
       "      <td>2008</td>\n",
       "      <td>N</td>\n",
       "    </tr>\n",
       "    <tr>\n",
       "      <th>3</th>\n",
       "      <td>Cust10000</td>\n",
       "      <td>35</td>\n",
       "      <td>454776</td>\n",
       "      <td>MALE</td>\n",
       "      <td>JD</td>\n",
       "      <td>armed-forces</td>\n",
       "      <td>movies</td>\n",
       "      <td>56700</td>\n",
       "      <td>-48500</td>\n",
       "      <td>India</td>\n",
       "      <td>...</td>\n",
       "      <td>1</td>\n",
       "      <td>0</td>\n",
       "      <td>?</td>\n",
       "      <td>65501</td>\n",
       "      <td>13417</td>\n",
       "      <td>6071</td>\n",
       "      <td>46013</td>\n",
       "      <td>VehicleMake</td>\n",
       "      <td>Audi</td>\n",
       "      <td>N</td>\n",
       "    </tr>\n",
       "    <tr>\n",
       "      <th>4</th>\n",
       "      <td>Cust10001</td>\n",
       "      <td>36</td>\n",
       "      <td>454776</td>\n",
       "      <td>MALE</td>\n",
       "      <td>JD</td>\n",
       "      <td>tech-support</td>\n",
       "      <td>cross-fit</td>\n",
       "      <td>70600</td>\n",
       "      <td>-48500</td>\n",
       "      <td>India</td>\n",
       "      <td>...</td>\n",
       "      <td>2</td>\n",
       "      <td>1</td>\n",
       "      <td>YES</td>\n",
       "      <td>61382</td>\n",
       "      <td>15560</td>\n",
       "      <td>5919</td>\n",
       "      <td>39903</td>\n",
       "      <td>VehicleYOM</td>\n",
       "      <td>2006</td>\n",
       "      <td>N</td>\n",
       "    </tr>\n",
       "    <tr>\n",
       "      <th>...</th>\n",
       "      <td>...</td>\n",
       "      <td>...</td>\n",
       "      <td>...</td>\n",
       "      <td>...</td>\n",
       "      <td>...</td>\n",
       "      <td>...</td>\n",
       "      <td>...</td>\n",
       "      <td>...</td>\n",
       "      <td>...</td>\n",
       "      <td>...</td>\n",
       "      <td>...</td>\n",
       "      <td>...</td>\n",
       "      <td>...</td>\n",
       "      <td>...</td>\n",
       "      <td>...</td>\n",
       "      <td>...</td>\n",
       "      <td>...</td>\n",
       "      <td>...</td>\n",
       "      <td>...</td>\n",
       "      <td>...</td>\n",
       "      <td>...</td>\n",
       "    </tr>\n",
       "    <tr>\n",
       "      <th>115339</th>\n",
       "      <td>Cust9997</td>\n",
       "      <td>53</td>\n",
       "      <td>472634</td>\n",
       "      <td>MALE</td>\n",
       "      <td>Associate</td>\n",
       "      <td>transport-moving</td>\n",
       "      <td>skydiving</td>\n",
       "      <td>67400</td>\n",
       "      <td>-43800</td>\n",
       "      <td>India</td>\n",
       "      <td>...</td>\n",
       "      <td>2</td>\n",
       "      <td>0</td>\n",
       "      <td>YES</td>\n",
       "      <td>55830</td>\n",
       "      <td>7059</td>\n",
       "      <td>7059</td>\n",
       "      <td>41712</td>\n",
       "      <td>VehicleYOM</td>\n",
       "      <td>2004</td>\n",
       "      <td>N</td>\n",
       "    </tr>\n",
       "    <tr>\n",
       "      <th>115340</th>\n",
       "      <td>Cust9999</td>\n",
       "      <td>36</td>\n",
       "      <td>450730</td>\n",
       "      <td>FEMALE</td>\n",
       "      <td>PhD</td>\n",
       "      <td>handlers-cleaners</td>\n",
       "      <td>base-jumping</td>\n",
       "      <td>46400</td>\n",
       "      <td>-74300</td>\n",
       "      <td>India</td>\n",
       "      <td>...</td>\n",
       "      <td>1</td>\n",
       "      <td>3</td>\n",
       "      <td>YES</td>\n",
       "      <td>68969</td>\n",
       "      <td>12075</td>\n",
       "      <td>6038</td>\n",
       "      <td>50856</td>\n",
       "      <td>VehicleModel</td>\n",
       "      <td>E400</td>\n",
       "      <td>N</td>\n",
       "    </tr>\n",
       "    <tr>\n",
       "      <th>115341</th>\n",
       "      <td>Cust9999</td>\n",
       "      <td>36</td>\n",
       "      <td>450730</td>\n",
       "      <td>FEMALE</td>\n",
       "      <td>PhD</td>\n",
       "      <td>handlers-cleaners</td>\n",
       "      <td>base-jumping</td>\n",
       "      <td>46400</td>\n",
       "      <td>-74300</td>\n",
       "      <td>India</td>\n",
       "      <td>...</td>\n",
       "      <td>1</td>\n",
       "      <td>3</td>\n",
       "      <td>YES</td>\n",
       "      <td>68969</td>\n",
       "      <td>12075</td>\n",
       "      <td>6038</td>\n",
       "      <td>50856</td>\n",
       "      <td>VehicleID</td>\n",
       "      <td>Vehicle39163</td>\n",
       "      <td>N</td>\n",
       "    </tr>\n",
       "    <tr>\n",
       "      <th>115342</th>\n",
       "      <td>Cust9999</td>\n",
       "      <td>36</td>\n",
       "      <td>450730</td>\n",
       "      <td>FEMALE</td>\n",
       "      <td>PhD</td>\n",
       "      <td>handlers-cleaners</td>\n",
       "      <td>base-jumping</td>\n",
       "      <td>46400</td>\n",
       "      <td>-74300</td>\n",
       "      <td>India</td>\n",
       "      <td>...</td>\n",
       "      <td>1</td>\n",
       "      <td>3</td>\n",
       "      <td>YES</td>\n",
       "      <td>68969</td>\n",
       "      <td>12075</td>\n",
       "      <td>6038</td>\n",
       "      <td>50856</td>\n",
       "      <td>VehicleMake</td>\n",
       "      <td>Suburu</td>\n",
       "      <td>N</td>\n",
       "    </tr>\n",
       "    <tr>\n",
       "      <th>115343</th>\n",
       "      <td>Cust9999</td>\n",
       "      <td>36</td>\n",
       "      <td>450730</td>\n",
       "      <td>FEMALE</td>\n",
       "      <td>PhD</td>\n",
       "      <td>handlers-cleaners</td>\n",
       "      <td>base-jumping</td>\n",
       "      <td>46400</td>\n",
       "      <td>-74300</td>\n",
       "      <td>India</td>\n",
       "      <td>...</td>\n",
       "      <td>1</td>\n",
       "      <td>3</td>\n",
       "      <td>YES</td>\n",
       "      <td>68969</td>\n",
       "      <td>12075</td>\n",
       "      <td>6038</td>\n",
       "      <td>50856</td>\n",
       "      <td>VehicleYOM</td>\n",
       "      <td>2007</td>\n",
       "      <td>N</td>\n",
       "    </tr>\n",
       "  </tbody>\n",
       "</table>\n",
       "<p>115344 rows × 40 columns</p>\n",
       "</div>"
      ],
      "text/plain": [
       "       CustomerID  InsuredAge  InsuredZipCode InsuredGender  \\\n",
       "0       Cust10000          35          454776          MALE   \n",
       "1       Cust10000          35          454776          MALE   \n",
       "2       Cust10000          35          454776          MALE   \n",
       "3       Cust10000          35          454776          MALE   \n",
       "4       Cust10001          36          454776          MALE   \n",
       "...           ...         ...             ...           ...   \n",
       "115339   Cust9997          53          472634          MALE   \n",
       "115340   Cust9999          36          450730        FEMALE   \n",
       "115341   Cust9999          36          450730        FEMALE   \n",
       "115342   Cust9999          36          450730        FEMALE   \n",
       "115343   Cust9999          36          450730        FEMALE   \n",
       "\n",
       "       InsuredEducationLevel  InsuredOccupation InsuredHobbies  CapitalGains  \\\n",
       "0                         JD       armed-forces         movies         56700   \n",
       "1                         JD       armed-forces         movies         56700   \n",
       "2                         JD       armed-forces         movies         56700   \n",
       "3                         JD       armed-forces         movies         56700   \n",
       "4                         JD       tech-support      cross-fit         70600   \n",
       "...                      ...                ...            ...           ...   \n",
       "115339             Associate   transport-moving      skydiving         67400   \n",
       "115340                   PhD  handlers-cleaners   base-jumping         46400   \n",
       "115341                   PhD  handlers-cleaners   base-jumping         46400   \n",
       "115342                   PhD  handlers-cleaners   base-jumping         46400   \n",
       "115343                   PhD  handlers-cleaners   base-jumping         46400   \n",
       "\n",
       "        CapitalLoss Country  ...  BodilyInjuries  Witnesses PoliceReport  \\\n",
       "0            -48500   India  ...               1          0            ?   \n",
       "1            -48500   India  ...               1          0            ?   \n",
       "2            -48500   India  ...               1          0            ?   \n",
       "3            -48500   India  ...               1          0            ?   \n",
       "4            -48500   India  ...               2          1          YES   \n",
       "...             ...     ...  ...             ...        ...          ...   \n",
       "115339       -43800   India  ...               2          0          YES   \n",
       "115340       -74300   India  ...               1          3          YES   \n",
       "115341       -74300   India  ...               1          3          YES   \n",
       "115342       -74300   India  ...               1          3          YES   \n",
       "115343       -74300   India  ...               1          3          YES   \n",
       "\n",
       "       AmountOfTotalClaim AmountOfInjuryClaim  AmountOfPropertyClaim  \\\n",
       "0                   65501               13417                   6071   \n",
       "1                   65501               13417                   6071   \n",
       "2                   65501               13417                   6071   \n",
       "3                   65501               13417                   6071   \n",
       "4                   61382               15560                   5919   \n",
       "...                   ...                 ...                    ...   \n",
       "115339              55830                7059                   7059   \n",
       "115340              68969               12075                   6038   \n",
       "115341              68969               12075                   6038   \n",
       "115342              68969               12075                   6038   \n",
       "115343              68969               12075                   6038   \n",
       "\n",
       "        AmountOfVehicleDamage  VehicleAttribute VehicleAttributeDetails  \\\n",
       "0                       46013         VehicleID            Vehicle26917   \n",
       "1                       46013      VehicleModel                      A5   \n",
       "2                       46013        VehicleYOM                    2008   \n",
       "3                       46013       VehicleMake                    Audi   \n",
       "4                       39903        VehicleYOM                    2006   \n",
       "...                       ...               ...                     ...   \n",
       "115339                  41712        VehicleYOM                    2004   \n",
       "115340                  50856      VehicleModel                    E400   \n",
       "115341                  50856         VehicleID            Vehicle39163   \n",
       "115342                  50856       VehicleMake                  Suburu   \n",
       "115343                  50856        VehicleYOM                    2007   \n",
       "\n",
       "       ReportedFraud  \n",
       "0                  N  \n",
       "1                  N  \n",
       "2                  N  \n",
       "3                  N  \n",
       "4                  N  \n",
       "...              ...  \n",
       "115339             N  \n",
       "115340             N  \n",
       "115341             N  \n",
       "115342             N  \n",
       "115343             N  \n",
       "\n",
       "[115344 rows x 40 columns]"
      ]
     },
     "execution_count": 2,
     "metadata": {},
     "output_type": "execute_result"
    }
   ],
   "source": [
    "df_demographics = pd.read_csv(\"Train_Demographics.csv\")\n",
    "df_policy = pd.read_csv('Train_Policy.csv')\n",
    "df_claim = pd.read_csv('Train_Claim.csv')\n",
    "df_vehicle = pd.read_csv('Train_Vehicle.csv')\n",
    "df_target = pd.read_csv('Traindata_with_Target.csv')\n",
    "\n",
    "# Merge all dataframes on 'CustomerID'\n",
    "df = pd.merge(df_demographics, df_policy, on='CustomerID')\n",
    "df = pd.merge(df, df_claim, on='CustomerID')\n",
    "df = pd.merge(df, df_vehicle, on='CustomerID')\n",
    "df = pd.merge(df, df_target, on='CustomerID')\n",
    "\n",
    "# Display the first few rows of the merged dataframe\n",
    "df"
   ]
  },
  {
   "cell_type": "code",
   "execution_count": 3,
   "metadata": {},
   "outputs": [
    {
     "data": {
      "text/plain": [
       "CustomerID                     object\n",
       "InsuredAge                      int64\n",
       "InsuredZipCode                  int64\n",
       "InsuredGender                  object\n",
       "InsuredEducationLevel          object\n",
       "InsuredOccupation              object\n",
       "InsuredHobbies                 object\n",
       "CapitalGains                    int64\n",
       "CapitalLoss                     int64\n",
       "Country                        object\n",
       "InsurancePolicyNumber           int64\n",
       "CustomerLoyaltyPeriod           int64\n",
       "DateOfPolicyCoverage           object\n",
       "InsurancePolicyState           object\n",
       "Policy_CombinedSingleLimit     object\n",
       "Policy_Deductible               int64\n",
       "PolicyAnnualPremium           float64\n",
       "UmbrellaLimit                   int64\n",
       "InsuredRelationship            object\n",
       "DateOfIncident                 object\n",
       "TypeOfIncident                 object\n",
       "TypeOfCollission               object\n",
       "SeverityOfIncident             object\n",
       "AuthoritiesContacted           object\n",
       "IncidentState                  object\n",
       "IncidentCity                   object\n",
       "IncidentAddress                object\n",
       "IncidentTime                    int64\n",
       "NumberOfVehicles                int64\n",
       "PropertyDamage                 object\n",
       "BodilyInjuries                  int64\n",
       "Witnesses                      object\n",
       "PoliceReport                   object\n",
       "AmountOfTotalClaim             object\n",
       "AmountOfInjuryClaim             int64\n",
       "AmountOfPropertyClaim           int64\n",
       "AmountOfVehicleDamage           int64\n",
       "VehicleAttribute               object\n",
       "VehicleAttributeDetails        object\n",
       "ReportedFraud                  object\n",
       "dtype: object"
      ]
     },
     "execution_count": 3,
     "metadata": {},
     "output_type": "execute_result"
    }
   ],
   "source": [
    "df.dtypes"
   ]
  },
  {
   "attachments": {},
   "cell_type": "markdown",
   "metadata": {},
   "source": [
    "###  a) Preparing the labels appropriately if necessary "
   ]
  },
  {
   "cell_type": "code",
   "execution_count": 4,
   "metadata": {},
   "outputs": [],
   "source": [
    "# Binary Encoding\n",
    "# LabelEncoder to convert 'Fraud' to 1 and 'Not Fraud' to 0\n",
    "le = LabelEncoder()\n",
    "df['ReportedFraud'] = le.fit_transform(df['ReportedFraud'])"
   ]
  },
  {
   "attachments": {},
   "cell_type": "markdown",
   "metadata": {},
   "source": [
    "###  b) Removing synonymous and noisy attributes if necessary \n"
   ]
  },
  {
   "cell_type": "code",
   "execution_count": 5,
   "metadata": {},
   "outputs": [],
   "source": [
    "unnecessary_attribute = ['CustomerID', 'Country', 'DateOfPolicyCoverage', 'DateOfIncident', \n",
    "                         'IncidentAddress', 'VehicleAttribute', 'VehicleAttributeDetails','InsuredZipCode',\n",
    "                         'InsurancePolicyNumber','InsuredHobbies','IncidentTime','AmountOfInjuryClaim','AmountOfPropertyClaim',\n",
    "                         'AmountOfVehicleDamage','Policy_CombinedSingleLimit'  ]\n",
    "df = df.drop(unnecessary_attribute, axis=1)"
   ]
  },
  {
   "attachments": {},
   "cell_type": "markdown",
   "metadata": {},
   "source": [
    "###  c) Dealing with missing values if necessary \n"
   ]
  },
  {
   "cell_type": "code",
   "execution_count": 6,
   "metadata": {},
   "outputs": [],
   "source": [
    "missing_values = ['?', 'NA', 'MISSINGVAL','???','MISSEDDATA','MISSINGVALUE']\n",
    "for missing_value_symbol in missing_values:\n",
    "    df = df.replace(missing_value_symbol, np.NaN)\n",
    "\n",
    "df.head()\n",
    "df.isnull().sum()\n",
    "missing_data = df.isnull().sum() / len(df) * 100\n",
    "# print(missing_data)\n",
    "\n",
    "# #For 'TypeOfCollission', 'PropertyDamage', and 'PoliceReport' which have 17.9%, 36.27%, and 34% missing data respectively.\n",
    "# we fill the missing values with 'Unknown' as  a separate category \n",
    "df['TypeOfCollission'].fillna('Unknown', inplace=True)\n",
    "df['PropertyDamage'].fillna('Unknown', inplace=True)\n",
    "df['PoliceReport'].fillna('Unknown', inplace=True)\n",
    "\n",
    "# For 'InsuredGender', 'Country', and 'VehicleAttributeDetails','AmountOfTotalClaim' and 'Witnesses' we drop the rows with missing values. \n",
    "# Since the percentage of missing values in these columns is less than 1%\n",
    "df = df.dropna(subset=['InsuredGender','Witnesses','AmountOfTotalClaim'])\n",
    "df.isnull().sum()\n",
    "\n",
    "#For 'PolicyAnnualPremium' the percentage of missing values is 0.49% so we drop the rows with missing values\n",
    "anual_prem = df[df['PolicyAnnualPremium'] == -1].shape[0]/df.shape[0] * 100\n",
    "#Drop all the value == -1 in PolicyAnnualPremium\n",
    "df = df[df['PolicyAnnualPremium'] != -1]"
   ]
  },
  {
   "attachments": {},
   "cell_type": "markdown",
   "metadata": {},
   "source": [
    "###  d) Relabeling for some attributes \n"
   ]
  },
  {
   "cell_type": "code",
   "execution_count": 7,
   "metadata": {},
   "outputs": [],
   "source": [
    "# Create a dictionary to map the education levels to their relabeled values\n",
    "relabeled_education_levels = {\n",
    "    \"PhD\": 7,\n",
    "    \"MD\": 6,\n",
    "    \"JD\": 5,\n",
    "    \"Masters\": 4,\n",
    "    \"College\": 3,\n",
    "    \"Associate\": 2,\n",
    "    \"High School\": 1,\n",
    "}\n",
    "df[\"InsuredEducationLevel\"] = df[\"InsuredEducationLevel\"].replace(relabeled_education_levels)\n",
    "\n",
    "\n",
    "# Encode the categorical features\n",
    "for col in df.columns:\n",
    "    if df[col].dtype == 'object':\n",
    "        df[col] = le.fit_transform(df[col].astype(str))  \n",
    "\n",
    "# convert AmountOfTotalClaim and Witnesses to int64\n",
    "df['AmountOfTotalClaim'] = df['AmountOfTotalClaim'].astype(int)\n",
    "df['Witnesses'] = df['Witnesses'].astype(int)\n",
    "\n",
    "# convert 'CapitalLoss' positive \n",
    "df['CapitalLoss'] = df['CapitalLoss'].abs()\n",
    "#convert all the negative of 'UmbrellaLimit' become 0\n",
    "df['UmbrellaLimit'] = df['UmbrellaLimit'].clip(lower=0)"
   ]
  },
  {
   "attachments": {},
   "cell_type": "markdown",
   "metadata": {},
   "source": [
    "### e) Other"
   ]
  },
  {
   "cell_type": "code",
   "execution_count": 75,
   "metadata": {},
   "outputs": [
    {
     "data": {
      "image/png": "[encoded data removed]",
      "text/plain": [
       "<Figure size 640x480 with 1 Axes>"
      ]
     },
     "metadata": {},
     "output_type": "display_data"
    }
   ],
   "source": [
    "# Checking the balance of classes\n",
    "class_balance = df['ReportedFraud'].value_counts(normalize=True)\n",
    "class_balance.plot(kind='bar')\n",
    "plt.title('Class Distribution')\n",
    "plt.xlabel('Class')\n",
    "plt.ylabel('Frequency')\n",
    "plt.show()\n"
   ]
  },
  {
   "cell_type": "code",
   "execution_count": 76,
   "metadata": {},
   "outputs": [
    {
     "data": {
      "text/plain": [
       "0    0.730092\n",
       "1    0.269908\n",
       "Name: ReportedFraud, dtype: float64"
      ]
     },
     "execution_count": 76,
     "metadata": {},
     "output_type": "execute_result"
    }
   ],
   "source": [
    "class_balance"
   ]
  },
  {
   "cell_type": "code",
   "execution_count": 8,
   "metadata": {},
   "outputs": [
    {
     "name": "stderr",
     "output_type": "stream",
     "text": [
      "C:\\Users\\Justin\\AppData\\Local\\Temp\\ipykernel_39448\\1837022777.py:16: RuntimeWarning: divide by zero encountered in scalar divide\n",
      "  vif_i = 1/(1 - r_squared_i)\n"
     ]
    },
    {
     "name": "stdout",
     "output_type": "stream",
     "text": [
      "VIF for InsuredAge: inf\n",
      "VIF for InsuredGender: 7.830844534471831\n",
      "VIF for InsuredEducationLevel: 1.0132492054920663\n",
      "VIF for InsuredOccupation: 1.0085978257307229\n",
      "VIF for CapitalGains: 1.0081223631072158\n",
      "VIF for CapitalLoss: 1.02075763442917\n",
      "VIF for CustomerLoyaltyPeriod: 1.0166828451678898\n",
      "VIF for InsurancePolicyState: 7.817810483857946\n",
      "VIF for Policy_Deductible: 1.014660714701352\n",
      "VIF for PolicyAnnualPremium: 1.021602934174865\n",
      "VIF for UmbrellaLimit: 1.020124979172929\n",
      "VIF for InsuredRelationship: 1.0268096326370966\n",
      "VIF for TypeOfIncident: 1.0182960460218458\n",
      "VIF for TypeOfCollission: 3.006492449847908\n",
      "VIF for SeverityOfIncident: 1.2163720058713485\n",
      "VIF for AuthoritiesContacted: 1.1193856943789908\n",
      "VIF for IncidentState: 1.069104502853025\n",
      "VIF for IncidentCity: 1.0292679107069114\n",
      "VIF for NumberOfVehicles: 1.016231146126819\n",
      "VIF for PropertyDamage: 3.049227892461801\n",
      "VIF for BodilyInjuries: 1.0194328143085374\n",
      "VIF for Witnesses: 1.01570859470901\n",
      "VIF for PoliceReport: 1.0226759909439922\n",
      "VIF for AmountOfTotalClaim: 1.016666441611809\n"
     ]
    }
   ],
   "source": [
    "#checking for multicollinearity\n",
    "def variance_inflation_factor(X, idx):\n",
    "    ones = np.ones(shape=(X.shape[0], 1))\n",
    "    X = np.append(ones, X, axis=1)\n",
    "    X_noti = np.delete(X, idx, axis=1)\n",
    "    X_i = X[:, idx]\n",
    "\n",
    "    model = LinearRegression()\n",
    "    model.fit(X_noti, X_i)\n",
    "\n",
    "    r_squared_i = model.score(X_noti, X_i)\n",
    "    vif_i = 1/(1 - r_squared_i)\n",
    "\n",
    "    return vif_i\n",
    "\n",
    "# Select only the numeric columns (excluding 'ReportedFraud')\n",
    "numeric_cols = df.select_dtypes(include=[np.number]).drop(columns='ReportedFraud')\n",
    "\n",
    "# Calculate and print the VIF for each feature\n",
    "for i in range(numeric_cols.shape[1]):\n",
    "    vif = variance_inflation_factor(numeric_cols.values, i)\n",
    "    print(f'VIF for {numeric_cols.columns[i]}: {vif}')\n",
    "    \n",
    "# Drop the columns with VIF > 5\n",
    "df = df.drop(columns=['InsuredAge','InsuredGender','InsurancePolicyState'])"
   ]
  },
  {
   "attachments": {},
   "cell_type": "markdown",
   "metadata": {},
   "source": [
    " ### f) Appropriate feature selection"
   ]
  },
  {
   "cell_type": "code",
   "execution_count": 9,
   "metadata": {},
   "outputs": [
    {
     "data": {
      "text/plain": [
       "PolicyAnnualPremium      0.485806\n",
       "AmountOfTotalClaim       0.453651\n",
       "UmbrellaLimit            0.158144\n",
       "CapitalLoss              0.132554\n",
       "CapitalGains             0.123942\n",
       "SeverityOfIncident       0.099849\n",
       "Policy_Deductible        0.023487\n",
       "TypeOfIncident           0.018659\n",
       "TypeOfCollission         0.018001\n",
       "AuthoritiesContacted     0.016150\n",
       "IncidentState            0.011938\n",
       "CustomerLoyaltyPeriod    0.011137\n",
       "BodilyInjuries           0.009475\n",
       "InsuredOccupation        0.009352\n",
       "PropertyDamage           0.007994\n",
       "NumberOfVehicles         0.006212\n",
       "InsuredEducationLevel    0.005911\n",
       "Witnesses                0.005834\n",
       "InsuredRelationship      0.005656\n",
       "PoliceReport             0.005264\n",
       "IncidentCity             0.004089\n",
       "dtype: float64"
      ]
     },
     "execution_count": 9,
     "metadata": {},
     "output_type": "execute_result"
    }
   ],
   "source": [
    "# Separate the features and the target\n",
    "X = df.drop(columns='ReportedFraud')\n",
    "y = df['ReportedFraud']\n",
    "\n",
    "# Calculate the mutual information between each feature and the target\n",
    "mi = mutual_info_classif(X, y)\n",
    "\n",
    "# Create a Series from the mutual information, with the feature names as the index\n",
    "mi_series = pd.Series(mi, index=X.columns)\n",
    "\n",
    "# Sort the Series in descending order\n",
    "mi_series.sort_values(ascending=False, inplace=True)\n",
    "\n",
    "# Print the mutual information\n",
    "mi_series"
   ]
  },
  {
   "cell_type": "code",
   "execution_count": 10,
   "metadata": {},
   "outputs": [
    {
     "data": {
      "text/plain": [
       "ReportedFraud            1.000000\n",
       "AmountOfTotalClaim       0.063181\n",
       "Witnesses                0.047626\n",
       "UmbrellaLimit            0.047172\n",
       "NumberOfVehicles         0.042348\n",
       "PropertyDamage           0.039580\n",
       "BodilyInjuries           0.025621\n",
       "InsuredRelationship      0.022686\n",
       "InsuredEducationLevel    0.018860\n",
       "CustomerLoyaltyPeriod    0.015185\n",
       "CapitalLoss              0.014857\n",
       "Policy_Deductible        0.007387\n",
       "InsuredOccupation        0.006717\n",
       "CapitalGains            -0.001585\n",
       "PoliceReport            -0.005246\n",
       "PolicyAnnualPremium     -0.019947\n",
       "AuthoritiesContacted    -0.036112\n",
       "IncidentCity            -0.036122\n",
       "TypeOfIncident          -0.039064\n",
       "IncidentState           -0.063111\n",
       "TypeOfCollission        -0.113275\n",
       "SeverityOfIncident      -0.349087\n",
       "Name: ReportedFraud, dtype: float64"
      ]
     },
     "execution_count": 10,
     "metadata": {},
     "output_type": "execute_result"
    }
   ],
   "source": [
    "# Checking the correlation of each feature with the target variable\n",
    "correlations = df.corr()['ReportedFraud'].sort_values(ascending=False)\n",
    "\n",
    "correlations"
   ]
  },
  {
   "cell_type": "code",
   "execution_count": 21,
   "metadata": {},
   "outputs": [
    {
     "data": {
      "text/plain": [
       "['PolicyAnnualPremium',\n",
       " 'CapitalLoss',\n",
       " 'AmountOfTotalClaim',\n",
       " 'UmbrellaLimit',\n",
       " 'AuthoritiesContacted',\n",
       " 'IncidentState',\n",
       " 'TypeOfIncident',\n",
       " 'Policy_Deductible',\n",
       " 'CapitalGains',\n",
       " 'TypeOfCollission',\n",
       " 'SeverityOfIncident']"
      ]
     },
     "execution_count": 21,
     "metadata": {},
     "output_type": "execute_result"
    }
   ],
   "source": [
    "# Select the top 10 features based on mutual information\n",
    "selected_features_mi = mi_series.head(10).index.tolist()\n",
    "# Calculate the correlations of features with the target variable\n",
    "correlations = df.corr()['ReportedFraud'].drop('ReportedFraud')\n",
    "# Combine these with the features from the correlation method\n",
    "correlation_threshold = 0.05\n",
    "selected_features_corr = correlations[correlations.abs() > correlation_threshold].index.tolist()\n",
    "\n",
    "# Combining the features and removing duplicates\n",
    "final_selected_features = list(set(selected_features_mi + selected_features_corr))\n",
    "\n",
    "final_selected_features\n"
   ]
  },
  {
   "cell_type": "code",
   "execution_count": 22,
   "metadata": {},
   "outputs": [
    {
     "data": {
      "text/plain": [
       "((91420, 11), (22856, 11))"
      ]
     },
     "execution_count": 22,
     "metadata": {},
     "output_type": "execute_result"
    }
   ],
   "source": [
    "# Selecting only the final selected features from the dataset\n",
    "X_selected = df[final_selected_features]\n",
    "# Splitting the refined data into training and testing sets\n",
    "X_train, X_test, y_train, y_test = train_test_split(X_selected, y, test_size=0.2, random_state=42)\n",
    "\n",
    "X_train.shape, X_test.shape\n"
   ]
  },
  {
   "attachments": {},
   "cell_type": "markdown",
   "metadata": {},
   "source": [
    "## 4. Technique 1: LogisticRegression "
   ]
  },
  {
   "attachments": {},
   "cell_type": "markdown",
   "metadata": {},
   "source": [
    "### a) Motivation for choosing the technique and the schematic figure of the process\n",
    "\n",
    "\n",
    "Motivation for choosing the technique: Logistic Regression is a simple yet powerful linear model that is widely used for binary classification problems. It is easy to implement, interpret, and very efficient to train. It makes no assumptions about distributions of classes in feature space. They can be linearly separable, or not. Logistic regression can also be regularized by penalizing coefficients with a tunable penalty strength.\n",
    "\n",
    "Setting hyper parameters: The main hyperparameter in Logistic Regression is the regularization strength 'C', which can prevent overfitting. A smaller value specifies stronger regularization.\n",
    "\n",
    "Optimizing the hyperparameters: GridSearchCV will be used for hyperparameter tuning. It is a method used to tune our hyperparameters. We can pass different values of hyperparameters as parameters for grid search. It does a exhaustive generation of combination of parameters passed and returns the best combination/result.\n",
    "\n",
    "Performance metrics for training set:  Accuracy, precision, recall, and F1-score will be the performance metrics. That these are common metrics for binary classification problems.\n"
   ]
  },
  {
   "attachments": {},
   "cell_type": "markdown",
   "metadata": {},
   "source": [
    "### b) Setting hyper parameters with rationale"
   ]
  },
  {
   "cell_type": "code",
   "execution_count": 37,
   "metadata": {},
   "outputs": [
    {
     "data": {
      "text/html": [
       "<style>#sk-container-id-3 {color: black;background-color: white;}#sk-container-id-3 pre{padding: 0;}#sk-container-id-3 div.sk-toggleable {background-color: white;}#sk-container-id-3 label.sk-toggleable__label {cursor: pointer;display: block;width: 100%;margin-bottom: 0;padding: 0.3em;box-sizing: border-box;text-align: center;}#sk-container-id-3 label.sk-toggleable__label-arrow:before {content: \"▸\";float: left;margin-right: 0.25em;color: #696969;}#sk-container-id-3 label.sk-toggleable__label-arrow:hover:before {color: black;}#sk-container-id-3 div.sk-estimator:hover label.sk-toggleable__label-arrow:before {color: black;}#sk-container-id-3 div.sk-toggleable__content {max-height: 0;max-width: 0;overflow: hidden;text-align: left;background-color: #f0f8ff;}#sk-container-id-3 div.sk-toggleable__content pre {margin: 0.2em;color: black;border-radius: 0.25em;background-color: #f0f8ff;}#sk-container-id-3 input.sk-toggleable__control:checked~div.sk-toggleable__content {max-height: 200px;max-width: 100%;overflow: auto;}#sk-container-id-3 input.sk-toggleable__control:checked~label.sk-toggleable__label-arrow:before {content: \"▾\";}#sk-container-id-3 div.sk-estimator input.sk-toggleable__control:checked~label.sk-toggleable__label {background-color: #d4ebff;}#sk-container-id-3 div.sk-label input.sk-toggleable__control:checked~label.sk-toggleable__label {background-color: #d4ebff;}#sk-container-id-3 input.sk-hidden--visually {border: 0;clip: rect(1px 1px 1px 1px);clip: rect(1px, 1px, 1px, 1px);height: 1px;margin: -1px;overflow: hidden;padding: 0;position: absolute;width: 1px;}#sk-container-id-3 div.sk-estimator {font-family: monospace;background-color: #f0f8ff;border: 1px dotted black;border-radius: 0.25em;box-sizing: border-box;margin-bottom: 0.5em;}#sk-container-id-3 div.sk-estimator:hover {background-color: #d4ebff;}#sk-container-id-3 div.sk-parallel-item::after {content: \"\";width: 100%;border-bottom: 1px solid gray;flex-grow: 1;}#sk-container-id-3 div.sk-label:hover label.sk-toggleable__label {background-color: #d4ebff;}#sk-container-id-3 div.sk-serial::before {content: \"\";position: absolute;border-left: 1px solid gray;box-sizing: border-box;top: 0;bottom: 0;left: 50%;z-index: 0;}#sk-container-id-3 div.sk-serial {display: flex;flex-direction: column;align-items: center;background-color: white;padding-right: 0.2em;padding-left: 0.2em;position: relative;}#sk-container-id-3 div.sk-item {position: relative;z-index: 1;}#sk-container-id-3 div.sk-parallel {display: flex;align-items: stretch;justify-content: center;background-color: white;position: relative;}#sk-container-id-3 div.sk-item::before, #sk-container-id-3 div.sk-parallel-item::before {content: \"\";position: absolute;border-left: 1px solid gray;box-sizing: border-box;top: 0;bottom: 0;left: 50%;z-index: -1;}#sk-container-id-3 div.sk-parallel-item {display: flex;flex-direction: column;z-index: 1;position: relative;background-color: white;}#sk-container-id-3 div.sk-parallel-item:first-child::after {align-self: flex-end;width: 50%;}#sk-container-id-3 div.sk-parallel-item:last-child::after {align-self: flex-start;width: 50%;}#sk-container-id-3 div.sk-parallel-item:only-child::after {width: 0;}#sk-container-id-3 div.sk-dashed-wrapped {border: 1px dashed gray;margin: 0 0.4em 0.5em 0.4em;box-sizing: border-box;padding-bottom: 0.4em;background-color: white;}#sk-container-id-3 div.sk-label label {font-family: monospace;font-weight: bold;display: inline-block;line-height: 1.2em;}#sk-container-id-3 div.sk-label-container {text-align: center;}#sk-container-id-3 div.sk-container {/* jupyter's `normalize.less` sets `[hidden] { display: none; }` but bootstrap.min.css set `[hidden] { display: none !important; }` so we also need the `!important` here to be able to override the default hidden behavior on the sphinx rendered scikit-learn.org. See: https://github.com/scikit-learn/scikit-learn/issues/21755 */display: inline-block !important;position: relative;}#sk-container-id-3 div.sk-text-repr-fallback {display: none;}</style><div id=\"sk-container-id-3\" class=\"sk-top-container\"><div class=\"sk-text-repr-fallback\"><pre>Pipeline(steps=[(&#x27;scaler&#x27;, StandardScaler()),\n",
       "                (&#x27;classifier&#x27;,\n",
       "                 LogisticRegression(class_weight=&#x27;balanced&#x27;, max_iter=1000,\n",
       "                                    solver=&#x27;sag&#x27;))])</pre><b>In a Jupyter environment, please rerun this cell to show the HTML representation or trust the notebook. <br />On GitHub, the HTML representation is unable to render, please try loading this page with nbviewer.org.</b></div><div class=\"sk-container\" hidden><div class=\"sk-item sk-dashed-wrapped\"><div class=\"sk-label-container\"><div class=\"sk-label sk-toggleable\"><input class=\"sk-toggleable__control sk-hidden--visually\" id=\"sk-estimator-id-8\" type=\"checkbox\" ><label for=\"sk-estimator-id-8\" class=\"sk-toggleable__label sk-toggleable__label-arrow\">Pipeline</label><div class=\"sk-toggleable__content\"><pre>Pipeline(steps=[(&#x27;scaler&#x27;, StandardScaler()),\n",
       "                (&#x27;classifier&#x27;,\n",
       "                 LogisticRegression(class_weight=&#x27;balanced&#x27;, max_iter=1000,\n",
       "                                    solver=&#x27;sag&#x27;))])</pre></div></div></div><div class=\"sk-serial\"><div class=\"sk-item\"><div class=\"sk-estimator sk-toggleable\"><input class=\"sk-toggleable__control sk-hidden--visually\" id=\"sk-estimator-id-9\" type=\"checkbox\" ><label for=\"sk-estimator-id-9\" class=\"sk-toggleable__label sk-toggleable__label-arrow\">StandardScaler</label><div class=\"sk-toggleable__content\"><pre>StandardScaler()</pre></div></div></div><div class=\"sk-item\"><div class=\"sk-estimator sk-toggleable\"><input class=\"sk-toggleable__control sk-hidden--visually\" id=\"sk-estimator-id-10\" type=\"checkbox\" ><label for=\"sk-estimator-id-10\" class=\"sk-toggleable__label sk-toggleable__label-arrow\">LogisticRegression</label><div class=\"sk-toggleable__content\"><pre>LogisticRegression(class_weight=&#x27;balanced&#x27;, max_iter=1000, solver=&#x27;sag&#x27;)</pre></div></div></div></div></div></div></div>"
      ],
      "text/plain": [
       "Pipeline(steps=[('scaler', StandardScaler()),\n",
       "                ('classifier',\n",
       "                 LogisticRegression(class_weight='balanced', max_iter=1000,\n",
       "                                    solver='sag'))])"
      ]
     },
     "execution_count": 37,
     "metadata": {},
     "output_type": "execute_result"
    }
   ],
   "source": [
    "# Set up the pipeline \n",
    "pipelineLR = Pipeline(steps=[\n",
    "    ('scaler', StandardScaler()),\n",
    "    ('classifier', LogisticRegression(solver='sag', max_iter=1000, class_weight='balanced'))\n",
    "])\n",
    "pipelineLR"
   ]
  },
  {
   "attachments": {},
   "cell_type": "markdown",
   "metadata": {},
   "source": [
    "### c) Optimising hyper parameters\n"
   ]
  },
  {
   "cell_type": "code",
   "execution_count": 60,
   "metadata": {},
   "outputs": [],
   "source": [
    "# Set up the parameter grid for GridSearchCV\n",
    "param_grid_LR = {\n",
    "      'classifier__C': [0.001, 0.01, 0.1, 1, 10, 100],\n",
    "      'classifier__penalty': ['l1', 'l2'],\n",
    "      'classifier__solver': ['liblinear', 'saga']\n",
    "}\n",
    "\n",
    "# Optimize the hyperparameters using GridSearchCV\n",
    "grid_search_LR = GridSearchCV(estimator=pipelineLR,param_grid= param_grid_LR, cv=5)"
   ]
  },
  {
   "cell_type": "code",
   "execution_count": 61,
   "metadata": {},
   "outputs": [
    {
     "data": {
      "text/html": [
       "<style>#sk-container-id-8 {color: black;background-color: white;}#sk-container-id-8 pre{padding: 0;}#sk-container-id-8 div.sk-toggleable {background-color: white;}#sk-container-id-8 label.sk-toggleable__label {cursor: pointer;display: block;width: 100%;margin-bottom: 0;padding: 0.3em;box-sizing: border-box;text-align: center;}#sk-container-id-8 label.sk-toggleable__label-arrow:before {content: \"▸\";float: left;margin-right: 0.25em;color: #696969;}#sk-container-id-8 label.sk-toggleable__label-arrow:hover:before {color: black;}#sk-container-id-8 div.sk-estimator:hover label.sk-toggleable__label-arrow:before {color: black;}#sk-container-id-8 div.sk-toggleable__content {max-height: 0;max-width: 0;overflow: hidden;text-align: left;background-color: #f0f8ff;}#sk-container-id-8 div.sk-toggleable__content pre {margin: 0.2em;color: black;border-radius: 0.25em;background-color: #f0f8ff;}#sk-container-id-8 input.sk-toggleable__control:checked~div.sk-toggleable__content {max-height: 200px;max-width: 100%;overflow: auto;}#sk-container-id-8 input.sk-toggleable__control:checked~label.sk-toggleable__label-arrow:before {content: \"▾\";}#sk-container-id-8 div.sk-estimator input.sk-toggleable__control:checked~label.sk-toggleable__label {background-color: #d4ebff;}#sk-container-id-8 div.sk-label input.sk-toggleable__control:checked~label.sk-toggleable__label {background-color: #d4ebff;}#sk-container-id-8 input.sk-hidden--visually {border: 0;clip: rect(1px 1px 1px 1px);clip: rect(1px, 1px, 1px, 1px);height: 1px;margin: -1px;overflow: hidden;padding: 0;position: absolute;width: 1px;}#sk-container-id-8 div.sk-estimator {font-family: monospace;background-color: #f0f8ff;border: 1px dotted black;border-radius: 0.25em;box-sizing: border-box;margin-bottom: 0.5em;}#sk-container-id-8 div.sk-estimator:hover {background-color: #d4ebff;}#sk-container-id-8 div.sk-parallel-item::after {content: \"\";width: 100%;border-bottom: 1px solid gray;flex-grow: 1;}#sk-container-id-8 div.sk-label:hover label.sk-toggleable__label {background-color: #d4ebff;}#sk-container-id-8 div.sk-serial::before {content: \"\";position: absolute;border-left: 1px solid gray;box-sizing: border-box;top: 0;bottom: 0;left: 50%;z-index: 0;}#sk-container-id-8 div.sk-serial {display: flex;flex-direction: column;align-items: center;background-color: white;padding-right: 0.2em;padding-left: 0.2em;position: relative;}#sk-container-id-8 div.sk-item {position: relative;z-index: 1;}#sk-container-id-8 div.sk-parallel {display: flex;align-items: stretch;justify-content: center;background-color: white;position: relative;}#sk-container-id-8 div.sk-item::before, #sk-container-id-8 div.sk-parallel-item::before {content: \"\";position: absolute;border-left: 1px solid gray;box-sizing: border-box;top: 0;bottom: 0;left: 50%;z-index: -1;}#sk-container-id-8 div.sk-parallel-item {display: flex;flex-direction: column;z-index: 1;position: relative;background-color: white;}#sk-container-id-8 div.sk-parallel-item:first-child::after {align-self: flex-end;width: 50%;}#sk-container-id-8 div.sk-parallel-item:last-child::after {align-self: flex-start;width: 50%;}#sk-container-id-8 div.sk-parallel-item:only-child::after {width: 0;}#sk-container-id-8 div.sk-dashed-wrapped {border: 1px dashed gray;margin: 0 0.4em 0.5em 0.4em;box-sizing: border-box;padding-bottom: 0.4em;background-color: white;}#sk-container-id-8 div.sk-label label {font-family: monospace;font-weight: bold;display: inline-block;line-height: 1.2em;}#sk-container-id-8 div.sk-label-container {text-align: center;}#sk-container-id-8 div.sk-container {/* jupyter's `normalize.less` sets `[hidden] { display: none; }` but bootstrap.min.css set `[hidden] { display: none !important; }` so we also need the `!important` here to be able to override the default hidden behavior on the sphinx rendered scikit-learn.org. See: https://github.com/scikit-learn/scikit-learn/issues/21755 */display: inline-block !important;position: relative;}#sk-container-id-8 div.sk-text-repr-fallback {display: none;}</style><div id=\"sk-container-id-8\" class=\"sk-top-container\"><div class=\"sk-text-repr-fallback\"><pre>GridSearchCV(cv=5,\n",
       "             estimator=Pipeline(steps=[(&#x27;scaler&#x27;, StandardScaler()),\n",
       "                                       (&#x27;classifier&#x27;,\n",
       "                                        LogisticRegression(class_weight=&#x27;balanced&#x27;,\n",
       "                                                           max_iter=1000,\n",
       "                                                           solver=&#x27;sag&#x27;))]),\n",
       "             param_grid={&#x27;classifier__C&#x27;: [0.001, 0.01, 0.1, 1, 10, 100],\n",
       "                         &#x27;classifier__penalty&#x27;: [&#x27;l1&#x27;, &#x27;l2&#x27;],\n",
       "                         &#x27;classifier__solver&#x27;: [&#x27;liblinear&#x27;, &#x27;saga&#x27;]})</pre><b>In a Jupyter environment, please rerun this cell to show the HTML representation or trust the notebook. <br />On GitHub, the HTML representation is unable to render, please try loading this page with nbviewer.org.</b></div><div class=\"sk-container\" hidden><div class=\"sk-item sk-dashed-wrapped\"><div class=\"sk-label-container\"><div class=\"sk-label sk-toggleable\"><input class=\"sk-toggleable__control sk-hidden--visually\" id=\"sk-estimator-id-26\" type=\"checkbox\" ><label for=\"sk-estimator-id-26\" class=\"sk-toggleable__label sk-toggleable__label-arrow\">GridSearchCV</label><div class=\"sk-toggleable__content\"><pre>GridSearchCV(cv=5,\n",
       "             estimator=Pipeline(steps=[(&#x27;scaler&#x27;, StandardScaler()),\n",
       "                                       (&#x27;classifier&#x27;,\n",
       "                                        LogisticRegression(class_weight=&#x27;balanced&#x27;,\n",
       "                                                           max_iter=1000,\n",
       "                                                           solver=&#x27;sag&#x27;))]),\n",
       "             param_grid={&#x27;classifier__C&#x27;: [0.001, 0.01, 0.1, 1, 10, 100],\n",
       "                         &#x27;classifier__penalty&#x27;: [&#x27;l1&#x27;, &#x27;l2&#x27;],\n",
       "                         &#x27;classifier__solver&#x27;: [&#x27;liblinear&#x27;, &#x27;saga&#x27;]})</pre></div></div></div><div class=\"sk-parallel\"><div class=\"sk-parallel-item\"><div class=\"sk-item\"><div class=\"sk-label-container\"><div class=\"sk-label sk-toggleable\"><input class=\"sk-toggleable__control sk-hidden--visually\" id=\"sk-estimator-id-27\" type=\"checkbox\" ><label for=\"sk-estimator-id-27\" class=\"sk-toggleable__label sk-toggleable__label-arrow\">estimator: Pipeline</label><div class=\"sk-toggleable__content\"><pre>Pipeline(steps=[(&#x27;scaler&#x27;, StandardScaler()),\n",
       "                (&#x27;classifier&#x27;,\n",
       "                 LogisticRegression(class_weight=&#x27;balanced&#x27;, max_iter=1000,\n",
       "                                    solver=&#x27;sag&#x27;))])</pre></div></div></div><div class=\"sk-serial\"><div class=\"sk-item\"><div class=\"sk-serial\"><div class=\"sk-item\"><div class=\"sk-estimator sk-toggleable\"><input class=\"sk-toggleable__control sk-hidden--visually\" id=\"sk-estimator-id-28\" type=\"checkbox\" ><label for=\"sk-estimator-id-28\" class=\"sk-toggleable__label sk-toggleable__label-arrow\">StandardScaler</label><div class=\"sk-toggleable__content\"><pre>StandardScaler()</pre></div></div></div><div class=\"sk-item\"><div class=\"sk-estimator sk-toggleable\"><input class=\"sk-toggleable__control sk-hidden--visually\" id=\"sk-estimator-id-29\" type=\"checkbox\" ><label for=\"sk-estimator-id-29\" class=\"sk-toggleable__label sk-toggleable__label-arrow\">LogisticRegression</label><div class=\"sk-toggleable__content\"><pre>LogisticRegression(class_weight=&#x27;balanced&#x27;, max_iter=1000, solver=&#x27;sag&#x27;)</pre></div></div></div></div></div></div></div></div></div></div></div></div>"
      ],
      "text/plain": [
       "GridSearchCV(cv=5,\n",
       "             estimator=Pipeline(steps=[('scaler', StandardScaler()),\n",
       "                                       ('classifier',\n",
       "                                        LogisticRegression(class_weight='balanced',\n",
       "                                                           max_iter=1000,\n",
       "                                                           solver='sag'))]),\n",
       "             param_grid={'classifier__C': [0.001, 0.01, 0.1, 1, 10, 100],\n",
       "                         'classifier__penalty': ['l1', 'l2'],\n",
       "                         'classifier__solver': ['liblinear', 'saga']})"
      ]
     },
     "execution_count": 61,
     "metadata": {},
     "output_type": "execute_result"
    }
   ],
   "source": [
    "grid_search_LR.fit(X_train, y_train)"
   ]
  },
  {
   "cell_type": "code",
   "execution_count": 40,
   "metadata": {},
   "outputs": [
    {
     "data": {
      "text/plain": [
       "{'classifier__C': 0.1,\n",
       " 'classifier__penalty': 'l1',\n",
       " 'classifier__solver': 'saga'}"
      ]
     },
     "execution_count": 40,
     "metadata": {},
     "output_type": "execute_result"
    }
   ],
   "source": [
    "best_params = grid_search_LR.best_params_\n",
    "best_params"
   ]
  },
  {
   "attachments": {},
   "cell_type": "markdown",
   "metadata": {},
   "source": [
    "### d) Performance metrics for training"
   ]
  },
  {
   "cell_type": "code",
   "execution_count": 62,
   "metadata": {},
   "outputs": [
    {
     "data": {
      "text/plain": [
       "({'classifier__C': 0.1,\n",
       "  'classifier__penalty': 'l1',\n",
       "  'classifier__solver': 'saga'},\n",
       " 0.6773681907678845,\n",
       " 0.6805652782639132)"
      ]
     },
     "execution_count": 62,
     "metadata": {},
     "output_type": "execute_result"
    }
   ],
   "source": [
    "# Extracting the best hyperparameters from the simplified grid search\n",
    "best_params_LR = grid_search_LR.best_params_\n",
    "train_score_LR = grid_search_LR.score(X_train, y_train)\n",
    "test_score_LR = grid_search_LR.score(X_test, y_test)\n",
    "\n",
    "best_params_LR, train_score_LR, test_score_LR"
   ]
  },
  {
   "cell_type": "code",
   "execution_count": 46,
   "metadata": {},
   "outputs": [
    {
     "name": "stdout",
     "output_type": "stream",
     "text": [
      "Test accuracy: 0.680565\n"
     ]
    }
   ],
   "source": [
    "best_model_LR = grid_search_LR.best_estimator_\n",
    "test_score_LR = best_model_LR.score(X_test, y_test)\n",
    "print(\"Test accuracy: %f\" % test_score_LR)"
   ]
  },
  {
   "attachments": {},
   "cell_type": "markdown",
   "metadata": {},
   "source": [
    "## 5. Technique 2: Random Forest Classifier "
   ]
  },
  {
   "attachments": {},
   "cell_type": "markdown",
   "metadata": {},
   "source": [
    "### a) Motivation for choosing the technique and the schematic figure of the process\n",
    "\n",
    "Motivation for choosing the technique: Random Forest is a versatile machine learning method capable of performing both regression and classification tasks. It is a type of ensemble learning method, where a group of weak models combine to form a powerful model. In Random Forest, we grow multiple trees as opposed to a single tree. To classify a new object based on attributes, each tree gives a classification. The forest chooses the classification having the most votes(over all the trees in the forest).\n",
    "\n",
    "Setting hyper parameters: The main hyperparameters in Random Forest are 'n_estimators' (The number of trees in the forest), 'max_features' (The number of features to consider when looking for the best split), and 'max_depth' (The maximum depth of the tree).\n",
    "\n",
    "Optimizing the hyperparameters: GridSearchCV will be use for hyperparameter tuning.\n",
    "\n",
    "Performance metrics for training set: Accuracy, precision, recall, and F1-score will be the performance metrics.\n"
   ]
  },
  {
   "attachments": {},
   "cell_type": "markdown",
   "metadata": {},
   "source": [
    "### b) Setting hyper parameters with rationale\n"
   ]
  },
  {
   "cell_type": "code",
   "execution_count": 25,
   "metadata": {},
   "outputs": [
    {
     "data": {
      "text/html": [
       "<style>#sk-container-id-1 {color: black;background-color: white;}#sk-container-id-1 pre{padding: 0;}#sk-container-id-1 div.sk-toggleable {background-color: white;}#sk-container-id-1 label.sk-toggleable__label {cursor: pointer;display: block;width: 100%;margin-bottom: 0;padding: 0.3em;box-sizing: border-box;text-align: center;}#sk-container-id-1 label.sk-toggleable__label-arrow:before {content: \"▸\";float: left;margin-right: 0.25em;color: #696969;}#sk-container-id-1 label.sk-toggleable__label-arrow:hover:before {color: black;}#sk-container-id-1 div.sk-estimator:hover label.sk-toggleable__label-arrow:before {color: black;}#sk-container-id-1 div.sk-toggleable__content {max-height: 0;max-width: 0;overflow: hidden;text-align: left;background-color: #f0f8ff;}#sk-container-id-1 div.sk-toggleable__content pre {margin: 0.2em;color: black;border-radius: 0.25em;background-color: #f0f8ff;}#sk-container-id-1 input.sk-toggleable__control:checked~div.sk-toggleable__content {max-height: 200px;max-width: 100%;overflow: auto;}#sk-container-id-1 input.sk-toggleable__control:checked~label.sk-toggleable__label-arrow:before {content: \"▾\";}#sk-container-id-1 div.sk-estimator input.sk-toggleable__control:checked~label.sk-toggleable__label {background-color: #d4ebff;}#sk-container-id-1 div.sk-label input.sk-toggleable__control:checked~label.sk-toggleable__label {background-color: #d4ebff;}#sk-container-id-1 input.sk-hidden--visually {border: 0;clip: rect(1px 1px 1px 1px);clip: rect(1px, 1px, 1px, 1px);height: 1px;margin: -1px;overflow: hidden;padding: 0;position: absolute;width: 1px;}#sk-container-id-1 div.sk-estimator {font-family: monospace;background-color: #f0f8ff;border: 1px dotted black;border-radius: 0.25em;box-sizing: border-box;margin-bottom: 0.5em;}#sk-container-id-1 div.sk-estimator:hover {background-color: #d4ebff;}#sk-container-id-1 div.sk-parallel-item::after {content: \"\";width: 100%;border-bottom: 1px solid gray;flex-grow: 1;}#sk-container-id-1 div.sk-label:hover label.sk-toggleable__label {background-color: #d4ebff;}#sk-container-id-1 div.sk-serial::before {content: \"\";position: absolute;border-left: 1px solid gray;box-sizing: border-box;top: 0;bottom: 0;left: 50%;z-index: 0;}#sk-container-id-1 div.sk-serial {display: flex;flex-direction: column;align-items: center;background-color: white;padding-right: 0.2em;padding-left: 0.2em;position: relative;}#sk-container-id-1 div.sk-item {position: relative;z-index: 1;}#sk-container-id-1 div.sk-parallel {display: flex;align-items: stretch;justify-content: center;background-color: white;position: relative;}#sk-container-id-1 div.sk-item::before, #sk-container-id-1 div.sk-parallel-item::before {content: \"\";position: absolute;border-left: 1px solid gray;box-sizing: border-box;top: 0;bottom: 0;left: 50%;z-index: -1;}#sk-container-id-1 div.sk-parallel-item {display: flex;flex-direction: column;z-index: 1;position: relative;background-color: white;}#sk-container-id-1 div.sk-parallel-item:first-child::after {align-self: flex-end;width: 50%;}#sk-container-id-1 div.sk-parallel-item:last-child::after {align-self: flex-start;width: 50%;}#sk-container-id-1 div.sk-parallel-item:only-child::after {width: 0;}#sk-container-id-1 div.sk-dashed-wrapped {border: 1px dashed gray;margin: 0 0.4em 0.5em 0.4em;box-sizing: border-box;padding-bottom: 0.4em;background-color: white;}#sk-container-id-1 div.sk-label label {font-family: monospace;font-weight: bold;display: inline-block;line-height: 1.2em;}#sk-container-id-1 div.sk-label-container {text-align: center;}#sk-container-id-1 div.sk-container {/* jupyter's `normalize.less` sets `[hidden] { display: none; }` but bootstrap.min.css set `[hidden] { display: none !important; }` so we also need the `!important` here to be able to override the default hidden behavior on the sphinx rendered scikit-learn.org. See: https://github.com/scikit-learn/scikit-learn/issues/21755 */display: inline-block !important;position: relative;}#sk-container-id-1 div.sk-text-repr-fallback {display: none;}</style><div id=\"sk-container-id-1\" class=\"sk-top-container\"><div class=\"sk-text-repr-fallback\"><pre>Pipeline(steps=[(&#x27;scaler&#x27;, StandardScaler()),\n",
       "                (&#x27;classifier&#x27;,\n",
       "                 RandomForestClassifier(class_weight=&#x27;balanced&#x27;))])</pre><b>In a Jupyter environment, please rerun this cell to show the HTML representation or trust the notebook. <br />On GitHub, the HTML representation is unable to render, please try loading this page with nbviewer.org.</b></div><div class=\"sk-container\" hidden><div class=\"sk-item sk-dashed-wrapped\"><div class=\"sk-label-container\"><div class=\"sk-label sk-toggleable\"><input class=\"sk-toggleable__control sk-hidden--visually\" id=\"sk-estimator-id-1\" type=\"checkbox\" ><label for=\"sk-estimator-id-1\" class=\"sk-toggleable__label sk-toggleable__label-arrow\">Pipeline</label><div class=\"sk-toggleable__content\"><pre>Pipeline(steps=[(&#x27;scaler&#x27;, StandardScaler()),\n",
       "                (&#x27;classifier&#x27;,\n",
       "                 RandomForestClassifier(class_weight=&#x27;balanced&#x27;))])</pre></div></div></div><div class=\"sk-serial\"><div class=\"sk-item\"><div class=\"sk-estimator sk-toggleable\"><input class=\"sk-toggleable__control sk-hidden--visually\" id=\"sk-estimator-id-2\" type=\"checkbox\" ><label for=\"sk-estimator-id-2\" class=\"sk-toggleable__label sk-toggleable__label-arrow\">StandardScaler</label><div class=\"sk-toggleable__content\"><pre>StandardScaler()</pre></div></div></div><div class=\"sk-item\"><div class=\"sk-estimator sk-toggleable\"><input class=\"sk-toggleable__control sk-hidden--visually\" id=\"sk-estimator-id-3\" type=\"checkbox\" ><label for=\"sk-estimator-id-3\" class=\"sk-toggleable__label sk-toggleable__label-arrow\">RandomForestClassifier</label><div class=\"sk-toggleable__content\"><pre>RandomForestClassifier(class_weight=&#x27;balanced&#x27;)</pre></div></div></div></div></div></div></div>"
      ],
      "text/plain": [
       "Pipeline(steps=[('scaler', StandardScaler()),\n",
       "                ('classifier',\n",
       "                 RandomForestClassifier(class_weight='balanced'))])"
      ]
     },
     "execution_count": 25,
     "metadata": {},
     "output_type": "execute_result"
    }
   ],
   "source": [
    "# Set up the pipeline\n",
    "pipeline = Pipeline(steps=[\n",
    "    ('scaler', StandardScaler()),\n",
    "    ('classifier', RandomForestClassifier(n_estimators=100, class_weight='balanced'))\n",
    "])\n",
    "pipeline"
   ]
  },
  {
   "attachments": {},
   "cell_type": "markdown",
   "metadata": {},
   "source": [
    "### c) Optimising hyper parameters\n"
   ]
  },
  {
   "cell_type": "code",
   "execution_count": 69,
   "metadata": {},
   "outputs": [
    {
     "name": "stdout",
     "output_type": "stream",
     "text": [
      "Fitting 3 folds for each of 12 candidates, totalling 36 fits\n"
     ]
    },
    {
     "data": {
      "text/html": [
       "<style>#sk-container-id-9 {color: black;background-color: white;}#sk-container-id-9 pre{padding: 0;}#sk-container-id-9 div.sk-toggleable {background-color: white;}#sk-container-id-9 label.sk-toggleable__label {cursor: pointer;display: block;width: 100%;margin-bottom: 0;padding: 0.3em;box-sizing: border-box;text-align: center;}#sk-container-id-9 label.sk-toggleable__label-arrow:before {content: \"▸\";float: left;margin-right: 0.25em;color: #696969;}#sk-container-id-9 label.sk-toggleable__label-arrow:hover:before {color: black;}#sk-container-id-9 div.sk-estimator:hover label.sk-toggleable__label-arrow:before {color: black;}#sk-container-id-9 div.sk-toggleable__content {max-height: 0;max-width: 0;overflow: hidden;text-align: left;background-color: #f0f8ff;}#sk-container-id-9 div.sk-toggleable__content pre {margin: 0.2em;color: black;border-radius: 0.25em;background-color: #f0f8ff;}#sk-container-id-9 input.sk-toggleable__control:checked~div.sk-toggleable__content {max-height: 200px;max-width: 100%;overflow: auto;}#sk-container-id-9 input.sk-toggleable__control:checked~label.sk-toggleable__label-arrow:before {content: \"▾\";}#sk-container-id-9 div.sk-estimator input.sk-toggleable__control:checked~label.sk-toggleable__label {background-color: #d4ebff;}#sk-container-id-9 div.sk-label input.sk-toggleable__control:checked~label.sk-toggleable__label {background-color: #d4ebff;}#sk-container-id-9 input.sk-hidden--visually {border: 0;clip: rect(1px 1px 1px 1px);clip: rect(1px, 1px, 1px, 1px);height: 1px;margin: -1px;overflow: hidden;padding: 0;position: absolute;width: 1px;}#sk-container-id-9 div.sk-estimator {font-family: monospace;background-color: #f0f8ff;border: 1px dotted black;border-radius: 0.25em;box-sizing: border-box;margin-bottom: 0.5em;}#sk-container-id-9 div.sk-estimator:hover {background-color: #d4ebff;}#sk-container-id-9 div.sk-parallel-item::after {content: \"\";width: 100%;border-bottom: 1px solid gray;flex-grow: 1;}#sk-container-id-9 div.sk-label:hover label.sk-toggleable__label {background-color: #d4ebff;}#sk-container-id-9 div.sk-serial::before {content: \"\";position: absolute;border-left: 1px solid gray;box-sizing: border-box;top: 0;bottom: 0;left: 50%;z-index: 0;}#sk-container-id-9 div.sk-serial {display: flex;flex-direction: column;align-items: center;background-color: white;padding-right: 0.2em;padding-left: 0.2em;position: relative;}#sk-container-id-9 div.sk-item {position: relative;z-index: 1;}#sk-container-id-9 div.sk-parallel {display: flex;align-items: stretch;justify-content: center;background-color: white;position: relative;}#sk-container-id-9 div.sk-item::before, #sk-container-id-9 div.sk-parallel-item::before {content: \"\";position: absolute;border-left: 1px solid gray;box-sizing: border-box;top: 0;bottom: 0;left: 50%;z-index: -1;}#sk-container-id-9 div.sk-parallel-item {display: flex;flex-direction: column;z-index: 1;position: relative;background-color: white;}#sk-container-id-9 div.sk-parallel-item:first-child::after {align-self: flex-end;width: 50%;}#sk-container-id-9 div.sk-parallel-item:last-child::after {align-self: flex-start;width: 50%;}#sk-container-id-9 div.sk-parallel-item:only-child::after {width: 0;}#sk-container-id-9 div.sk-dashed-wrapped {border: 1px dashed gray;margin: 0 0.4em 0.5em 0.4em;box-sizing: border-box;padding-bottom: 0.4em;background-color: white;}#sk-container-id-9 div.sk-label label {font-family: monospace;font-weight: bold;display: inline-block;line-height: 1.2em;}#sk-container-id-9 div.sk-label-container {text-align: center;}#sk-container-id-9 div.sk-container {/* jupyter's `normalize.less` sets `[hidden] { display: none; }` but bootstrap.min.css set `[hidden] { display: none !important; }` so we also need the `!important` here to be able to override the default hidden behavior on the sphinx rendered scikit-learn.org. See: https://github.com/scikit-learn/scikit-learn/issues/21755 */display: inline-block !important;position: relative;}#sk-container-id-9 div.sk-text-repr-fallback {display: none;}</style><div id=\"sk-container-id-9\" class=\"sk-top-container\"><div class=\"sk-text-repr-fallback\"><pre>GridSearchCV(cv=3,\n",
       "             estimator=Pipeline(steps=[(&#x27;scaler&#x27;, StandardScaler()),\n",
       "                                       (&#x27;classifier&#x27;,\n",
       "                                        RandomForestClassifier(class_weight=&#x27;balanced&#x27;,\n",
       "                                                               max_depth=20,\n",
       "                                                               min_samples_leaf=2,\n",
       "                                                               min_samples_split=10))]),\n",
       "             n_jobs=-1,\n",
       "             param_grid={&#x27;classifier__max_depth&#x27;: [10, 15, 20],\n",
       "                         &#x27;classifier__max_features&#x27;: [&#x27;sqrt&#x27;],\n",
       "                         &#x27;classifier__min_samples_leaf&#x27;: [2, 4],\n",
       "                         &#x27;classifier__min_samples_split&#x27;: [10, 20]},\n",
       "             verbose=1)</pre><b>In a Jupyter environment, please rerun this cell to show the HTML representation or trust the notebook. <br />On GitHub, the HTML representation is unable to render, please try loading this page with nbviewer.org.</b></div><div class=\"sk-container\" hidden><div class=\"sk-item sk-dashed-wrapped\"><div class=\"sk-label-container\"><div class=\"sk-label sk-toggleable\"><input class=\"sk-toggleable__control sk-hidden--visually\" id=\"sk-estimator-id-30\" type=\"checkbox\" ><label for=\"sk-estimator-id-30\" class=\"sk-toggleable__label sk-toggleable__label-arrow\">GridSearchCV</label><div class=\"sk-toggleable__content\"><pre>GridSearchCV(cv=3,\n",
       "             estimator=Pipeline(steps=[(&#x27;scaler&#x27;, StandardScaler()),\n",
       "                                       (&#x27;classifier&#x27;,\n",
       "                                        RandomForestClassifier(class_weight=&#x27;balanced&#x27;,\n",
       "                                                               max_depth=20,\n",
       "                                                               min_samples_leaf=2,\n",
       "                                                               min_samples_split=10))]),\n",
       "             n_jobs=-1,\n",
       "             param_grid={&#x27;classifier__max_depth&#x27;: [10, 15, 20],\n",
       "                         &#x27;classifier__max_features&#x27;: [&#x27;sqrt&#x27;],\n",
       "                         &#x27;classifier__min_samples_leaf&#x27;: [2, 4],\n",
       "                         &#x27;classifier__min_samples_split&#x27;: [10, 20]},\n",
       "             verbose=1)</pre></div></div></div><div class=\"sk-parallel\"><div class=\"sk-parallel-item\"><div class=\"sk-item\"><div class=\"sk-label-container\"><div class=\"sk-label sk-toggleable\"><input class=\"sk-toggleable__control sk-hidden--visually\" id=\"sk-estimator-id-31\" type=\"checkbox\" ><label for=\"sk-estimator-id-31\" class=\"sk-toggleable__label sk-toggleable__label-arrow\">estimator: Pipeline</label><div class=\"sk-toggleable__content\"><pre>Pipeline(steps=[(&#x27;scaler&#x27;, StandardScaler()),\n",
       "                (&#x27;classifier&#x27;,\n",
       "                 RandomForestClassifier(class_weight=&#x27;balanced&#x27;, max_depth=20,\n",
       "                                        min_samples_leaf=2,\n",
       "                                        min_samples_split=10))])</pre></div></div></div><div class=\"sk-serial\"><div class=\"sk-item\"><div class=\"sk-serial\"><div class=\"sk-item\"><div class=\"sk-estimator sk-toggleable\"><input class=\"sk-toggleable__control sk-hidden--visually\" id=\"sk-estimator-id-32\" type=\"checkbox\" ><label for=\"sk-estimator-id-32\" class=\"sk-toggleable__label sk-toggleable__label-arrow\">StandardScaler</label><div class=\"sk-toggleable__content\"><pre>StandardScaler()</pre></div></div></div><div class=\"sk-item\"><div class=\"sk-estimator sk-toggleable\"><input class=\"sk-toggleable__control sk-hidden--visually\" id=\"sk-estimator-id-33\" type=\"checkbox\" ><label for=\"sk-estimator-id-33\" class=\"sk-toggleable__label sk-toggleable__label-arrow\">RandomForestClassifier</label><div class=\"sk-toggleable__content\"><pre>RandomForestClassifier(class_weight=&#x27;balanced&#x27;, max_depth=20,\n",
       "                       min_samples_leaf=2, min_samples_split=10)</pre></div></div></div></div></div></div></div></div></div></div></div></div>"
      ],
      "text/plain": [
       "GridSearchCV(cv=3,\n",
       "             estimator=Pipeline(steps=[('scaler', StandardScaler()),\n",
       "                                       ('classifier',\n",
       "                                        RandomForestClassifier(class_weight='balanced',\n",
       "                                                               max_depth=20,\n",
       "                                                               min_samples_leaf=2,\n",
       "                                                               min_samples_split=10))]),\n",
       "             n_jobs=-1,\n",
       "             param_grid={'classifier__max_depth': [10, 15, 20],\n",
       "                         'classifier__max_features': ['sqrt'],\n",
       "                         'classifier__min_samples_leaf': [2, 4],\n",
       "                         'classifier__min_samples_split': [10, 20]},\n",
       "             verbose=1)"
      ]
     },
     "execution_count": 69,
     "metadata": {},
     "output_type": "execute_result"
    }
   ],
   "source": [
    "# Simplifying the parameter grid for GridSearchCV\n",
    "simplified_param_grid = {\n",
    "    'classifier__max_depth': [10, 15, 20],  # Reduced depth options\n",
    "    'classifier__min_samples_split': [10, 20],  # Fewer splitting samples options\n",
    "    'classifier__min_samples_leaf': [2, 4],  # Fewer leaf samples options\n",
    "    'classifier__max_features': ['sqrt']  # Reduced feature options\n",
    "}\n",
    "\n",
    "# Re-running GridSearchCV with the simplified parameter grid and top features\n",
    "grid_search = GridSearchCV(estimator=pipeline, param_grid=simplified_param_grid, \n",
    "                                      cv=3, n_jobs=-1, verbose=1)\n",
    "\n",
    "grid_search.fit(X_train, y_train)"
   ]
  },
  {
   "attachments": {},
   "cell_type": "markdown",
   "metadata": {},
   "source": [
    "### d) Performance metrics for training"
   ]
  },
  {
   "cell_type": "code",
   "execution_count": 58,
   "metadata": {},
   "outputs": [
    {
     "data": {
      "text/plain": [
       "({'classifier__max_depth': 20,\n",
       "  'classifier__max_features': 'sqrt',\n",
       "  'classifier__min_samples_leaf': 2,\n",
       "  'classifier__min_samples_split': 10},\n",
       " 0.9877707285057974,\n",
       " 0.9761113055652783)"
      ]
     },
     "execution_count": 58,
     "metadata": {},
     "output_type": "execute_result"
    }
   ],
   "source": [
    "# Extracting the best hyperparameters from the simplified grid search\n",
    "best_params = grid_search.best_params_\n",
    "train_score = grid_search.score(X_train, y_train)\n",
    "test_score = grid_search.score(X_test, y_test)\n",
    "\n",
    "best_params, train_score, test_score"
   ]
  },
  {
   "cell_type": "code",
   "execution_count": 59,
   "metadata": {},
   "outputs": [
    {
     "name": "stdout",
     "output_type": "stream",
     "text": [
      "Test accuracy: 0.976111\n"
     ]
    }
   ],
   "source": [
    "best_model = grid_search.best_estimator_\n",
    "test_score = best_model.score(X_test, y_test)\n",
    "print(\"Test accuracy: %f\" % test_score)"
   ]
  },
  {
   "cell_type": "code",
   "execution_count": null,
   "metadata": {},
   "outputs": [],
   "source": [
    "# # Train the model on the entire training set using the selected hyperparameters\n",
    "# pipeline.set_params(**best_params)\n",
    "# pipeline.fit(X_train, y_train)\n",
    "\n",
    "# # Evaluate the model on the testing set\n",
    "# test_score = pipeline.score(X_test, y_test)\n",
    "# print(\"Test accuracy: %0.2f\" % test_score)"
   ]
  },
  {
   "cell_type": "code",
   "execution_count": null,
   "metadata": {},
   "outputs": [],
   "source": [
    "# # Evaluate the model on the training set\n",
    "# train_score = pipeline.score(X_train, y_train)\n",
    "\n",
    "# # Display training accuracy, test accuracy, and best parameters\n",
    "# train_score, test_score, best_params\n"
   ]
  },
  {
   "attachments": {},
   "cell_type": "markdown",
   "metadata": {},
   "source": [
    "## 6. Comparison of metrics performance for testing "
   ]
  },
  {
   "attachments": {},
   "cell_type": "markdown",
   "metadata": {},
   "source": [
    "### a) Use of cross validation for both techniques to deal with over-fitting"
   ]
  },
  {
   "cell_type": "code",
   "execution_count": 70,
   "metadata": {},
   "outputs": [
    {
     "name": "stdout",
     "output_type": "stream",
     "text": [
      " LogisticRegression : Accuracy: 0.68 (+/- 0.01)\n",
      " RandomForestClassifier : Accuracy: 0.96 (+/- 0.00)\n"
     ]
    }
   ],
   "source": [
    "# Define the inner and outer cross-validation\n",
    "inner_cv = KFold(n_splits=5, shuffle=True)\n",
    "outer_cv = KFold(n_splits=5, shuffle=True)\n",
    "\n",
    "\n",
    "# Optimize the hyperparameters using GridSearchCV \n",
    "grid_search_LR_CV = GridSearchCV(estimator=pipelineLR,param_grid= param_grid_LR, cv=inner_cv)\n",
    "scores_LR = cross_val_score(grid_search_LR_CV, X_train, y_train, cv=outer_cv)\n",
    "\n",
    "# Optimize the hyperparameters using GridSearchCV\n",
    "grid_search_CV = GridSearchCV(estimator=pipeline,param_grid= simplified_param_grid, cv=inner_cv)\n",
    "scores = cross_val_score(grid_search_CV, X_train, y_train, cv=outer_cv)\n",
    "\n",
    "\n",
    "# Print the mean score and standard deviation\n",
    "print(\" LogisticRegression : Accuracy: %0.2f (+/- %0.2f)\" % (scores_LR.mean(), scores_LR.std() * 2))\n",
    "print(\" RandomForestClassifier : Accuracy: %0.2f (+/- %0.2f)\" % (scores.mean(), scores.std() * 2))\n"
   ]
  },
  {
   "attachments": {},
   "cell_type": "markdown",
   "metadata": {},
   "source": [
    "### b) Comparison with appropriate metrics for testing"
   ]
  },
  {
   "cell_type": "code",
   "execution_count": 63,
   "metadata": {},
   "outputs": [
    {
     "name": "stdout",
     "output_type": "stream",
     "text": [
      "LogisticRegression : Test accuracy: 0.680565\n",
      "RandomForestClassifier : Test accuracy: 0.976111\n"
     ]
    }
   ],
   "source": [
    "# Evaluate the model on the testing set\n",
    "test_score_LR = grid_search_LR.score(X_test, y_test)\n",
    "test_score = grid_search.score(X_test, y_test)\n",
    "print(\"LogisticRegression : Test accuracy: %f\" % test_score_LR)\n",
    "print(\"RandomForestClassifier : Test accuracy: %f\" % test_score)"
   ]
  },
  {
   "attachments": {},
   "cell_type": "markdown",
   "metadata": {},
   "source": [
    "### c) Model selection (ROC or other charts)"
   ]
  },
  {
   "cell_type": "code",
   "execution_count": 64,
   "metadata": {},
   "outputs": [
    {
     "data": {
      "image/png": "[encoded data removed]",
      "text/plain": [
       "<Figure size 640x480 with 2 Axes>"
      ]
     },
     "metadata": {},
     "output_type": "display_data"
    },
    {
     "data": {
      "text/plain": [
       "Text(0.5, 1.0, 'Confusion matrix for Random Forest')"
      ]
     },
     "execution_count": 64,
     "metadata": {},
     "output_type": "execute_result"
    },
    {
     "data": {
      "image/png": "[encoded data removed]",
      "text/plain": [
       "<Figure size 640x480 with 2 Axes>"
      ]
     },
     "metadata": {},
     "output_type": "display_data"
    }
   ],
   "source": [
    "# Predict the target for the test data using grid_search\n",
    "y_pred_logreg = grid_search_LR.predict(X_test)\n",
    "y_pred_rf = grid_search.predict(X_test)\n",
    "# Create the confusion matrix for Logistic Regression\n",
    "cm_LR = confusion_matrix(y_test, y_pred_logreg, labels=[0, 1])\n",
    "cm_rf = confusion_matrix(y_test, y_pred_rf,labels=[0,1])\n",
    "\n",
    "# Plot the confusion matrix for Logistic Regression\n",
    "plt.imshow(cm_LR, cmap='Blues')\n",
    "plt.colorbar()\n",
    "plt.xlabel('Predicted')\n",
    "plt.ylabel('True')\n",
    "plt.title('Confusion matrix for Logistic Regression using GridSearchCV')\n",
    "plt.show()\n",
    "\n",
    "\n",
    "plt.imshow(cm_rf, cmap='Blues')\n",
    "plt.colorbar()\n",
    "plt.xlabel('Predicted')\n",
    "plt.ylabel('True')\n",
    "plt.title('Confusion matrix for Random Forest')\n",
    "\n",
    "\n"
   ]
  },
  {
   "cell_type": "code",
   "execution_count": 73,
   "metadata": {},
   "outputs": [
    {
     "data": {
      "image/png": "[encoded data removed]",
      "text/plain": [
       "<Figure size 1000x700 with 2 Axes>"
      ]
     },
     "metadata": {},
     "output_type": "display_data"
    },
    {
     "data": {
      "image/png": "[encoded data removed]",
      "text/plain": [
       "<Figure size 1000x700 with 2 Axes>"
      ]
     },
     "metadata": {},
     "output_type": "display_data"
    }
   ],
   "source": [
    "\n",
    "# Compute the confusion matrix for Logistic Regression\n",
    "cm_LR = confusion_matrix(y_test, y_pred_logreg)\n",
    "\n",
    "# Normalize the confusion matrix to get percentages\n",
    "cm_LR_normalized = cm_LR.astype('float') / cm_LR.sum(axis=1)[:, np.newaxis] * 100\n",
    "\n",
    "# Visualize the normalized confusion matrix\n",
    "plt.figure(figsize=(10,7))\n",
    "sns.heatmap(cm_LR_normalized, annot=True, cmap='Blues', fmt=\".2f\", \n",
    "            xticklabels=['Not Fraudulent', 'Fraudulent'], \n",
    "            yticklabels=['Not Fraudulent', 'Fraudulent'])\n",
    "plt.ylabel('True label')\n",
    "plt.xlabel('Predicted label')\n",
    "plt.title('Normalized Confusion Matrix for Logistic Regression')\n",
    "plt.show()\n",
    "\n",
    "\n",
    "# Compute the confusion matrix for Random Forest\n",
    "cm_rf = confusion_matrix(y_test, y_pred_rf)\n",
    "\n",
    "# Normalize the confusion matrix to get percentages\n",
    "cm_rf_normalized = cm_rf.astype('float') / cm_rf.sum(axis=1)[:, np.newaxis] * 100\n",
    "\n",
    "# Visualize the normalized confusion matrix\n",
    "plt.figure(figsize=(10,7))\n",
    "sns.heatmap(cm_rf_normalized, annot=True, cmap='Blues', fmt=\".2f\", \n",
    "            xticklabels=['Not Fraudulent', 'Fraudulent'], \n",
    "            yticklabels=['Not Fraudulent', 'Fraudulent'])\n",
    "plt.ylabel('True label')\n",
    "plt.xlabel('Predicted label')\n",
    "plt.title('Normalized Confusion Matrix for Random Forest')\n",
    "plt.show()\n",
    "\n",
    "\n"
   ]
  },
  {
   "cell_type": "code",
   "execution_count": 72,
   "metadata": {},
   "outputs": [
    {
     "name": "stdout",
     "output_type": "stream",
     "text": [
      "Precision, recall, and F1 score of logistic regression:  0.44109867751780263 0.7058440501383689 0.5429161710386278\n",
      "Precision, recall, and F1 score of random forest:  0.9485494470267671 0.9633729448152368 0.9559037312227427\n"
     ]
    }
   ],
   "source": [
    "\n",
    "# Calculate the precision, recall, and F1 score for logistic regression\n",
    "precision_logreg = precision_score(y_test, y_pred_logreg)\n",
    "recall_logreg = recall_score(y_test, y_pred_logreg)\n",
    "f1_logreg = f1_score(y_test, y_pred_logreg)\n",
    "\n",
    "# Calculate the precision, recall, and F1 score for random forest\n",
    "precision_rf = precision_score(y_test, y_pred_rf)\n",
    "recall_rf = recall_score(y_test, y_pred_rf)\n",
    "f1_rf = f1_score(y_test, y_pred_rf)\n",
    "\n",
    "# Print the precision, recall, and F1 score\n",
    "print('Precision, recall, and F1 score of logistic regression: ', precision_logreg, recall_logreg, f1_logreg)\n",
    "print('Precision, recall, and F1 score of random forest: ', precision_rf, recall_rf, f1_rf)\n"
   ]
  },
  {
   "cell_type": "code",
   "execution_count": 71,
   "metadata": {},
   "outputs": [
    {
     "name": "stdout",
     "output_type": "stream",
     "text": [
      "Classification report for logistic regression:\n",
      "              precision    recall  f1-score   support\n",
      "\n",
      "           0       0.86      0.67      0.75     16713\n",
      "           1       0.44      0.71      0.54      6143\n",
      "\n",
      "    accuracy                           0.68     22856\n",
      "   macro avg       0.65      0.69      0.65     22856\n",
      "weighted avg       0.75      0.68      0.70     22856\n",
      "\n",
      "Classification report for random forest:\n",
      "              precision    recall  f1-score   support\n",
      "\n",
      "           0       0.99      0.98      0.98     16713\n",
      "           1       0.95      0.96      0.96      6143\n",
      "\n",
      "    accuracy                           0.98     22856\n",
      "   macro avg       0.97      0.97      0.97     22856\n",
      "weighted avg       0.98      0.98      0.98     22856\n",
      "\n"
     ]
    }
   ],
   "source": [
    "\n",
    "# Calculate the classification report for the logistic regression model.\n",
    "report_lr = classification_report(y_test, y_pred_logreg)\n",
    "\n",
    "# Calculate the classification report for the random forest model.\n",
    "report_rf = classification_report(y_test, y_pred_rf)\n",
    "\n",
    "print('Classification report for logistic regression:')\n",
    "print(report_lr)\n",
    "\n",
    "print('Classification report for random forest:')\n",
    "print(report_rf)\n"
   ]
  },
  {
   "attachments": {},
   "cell_type": "markdown",
   "metadata": {},
   "source": [
    "## 7. Final recommendation of best model"
   ]
  },
  {
   "attachments": {},
   "cell_type": "markdown",
   "metadata": {},
   "source": [
    "### a) Discussion of the results from a technical perspective, for example, overfitting discussion, complexity and efficiency\n",
    "\n",
    "\n",
    "The comparative analysis of the logistic regression and random forest models reveals distinct performance variations:\n",
    "\n",
    "For the **logistic regression** model:\n",
    "\n",
    "* Precision of **44%** for the positive class (1) implies that when it predicts an instance as fraud, it's accurate about **44%** of the time.\n",
    "* Recall of **71%** for the positive class suggests it identifies **71%** of the actual fraud cases.\n",
    "* The F1 score, which harmonizes precision and recall, is **54%** for the positive class, indicating a moderate balance between its predictive accuracy and coverage.\n",
    "\n",
    "On the other hand, the **random forest classifier** demonstrates remarkable performance:\n",
    "\n",
    "* Precision of **95%** for the positive class indicates that its predictions are highly accurate.\n",
    "* A recall of **96%** for the positive class shows that it captures almost all actual fraud instances.\n",
    "* An F1 score of **96%** for the positive class underscores an exceptional equilibrium between precision and recall.\n",
    "\n",
    "The evident superiority of the random forest model can be attributed to its ensemble approach, leveraging multiple decision trees. This allows it to capture intricate patterns in the data more effectively than the logistic regression model, which is linear.\n",
    "\n",
    "However, while the random forest's metrics are compelling, there might be concerns of overfitting, given the near-perfect scores. Though logistic regression showed lesser accuracy, its linear nature makes it more interpretable, which can be beneficial depending on the application's requirements.\n",
    "\n",
    "In summary, the random forest classifier is the superior model for this dataset in terms of performance metrics. But the choice between models should also consider factors like interpretability, dataset size, and computational efficiency.\n",
    "\n",
    "\n"
   ]
  },
  {
   "attachments": {},
   "cell_type": "markdown",
   "metadata": {},
   "source": [
    "### b) Discuss the results from a business perspective, for example, results interpretation, relevance and balance with technical perspective\n",
    "\n",
    "**Significance of Accuracy**:\n",
    "\n",
    "The random forest model, with an accuracy of 98%, implies that in a real-world scenario, if the company were to process 10,000 claims, it would likely make correct predictions on 9,800 of those claims. This level of accuracy is paramount in ensuring that genuine claims are processed quickly and fraudulent ones are identified and investigated.\n",
    "\n",
    "**Cost Implications**:\n",
    "\n",
    "The logistic regression, despite its lower accuracy, has a 71% recall for fraud cases. From a financial standpoint, this means it can catch 71% of the fraudulent claims. However, its precision is only 44%. This implies that when the logistic model flags a claim as fraudulent, it's only correct 44% of the time. The remaining 56% could be genuine claims that are incorrectly flagged, leading to potential customer dissatisfaction and additional costs in re-evaluating these claims.\n",
    "In contrast, the random forest has both high precision (95%) and recall (96%) for fraud cases, making it more reliable both in identifying genuine claims and in catching frauds. This balance can lead to substantial cost savings by reducing the amount spent on false investigations and by ensuring fraudulent claims don't get approved.\n",
    "\n",
    "**Operational Efficiency and Customer Satisfaction**:\n",
    "\n",
    "High false positives, as seen in the logistic regression model, could lead to delays in processing genuine claims, affecting customer satisfaction. On the other hand, a model like the random forest, with its high precision and recall, ensures that genuine claims are processed quickly, leading to higher customer satisfaction, while also effectively identifying fraudulent claims.\n",
    "\n",
    "**Technical Trade-offs**:\n",
    "\n",
    "While the random forest's performance is stellar, it's a more complex model. Its predictions, being based on numerous decision trees, aren't as straightforward to explain to non-technical stakeholders compared to logistic regression. This can be a concern when transparency and interpretability are required, especially in sectors where regulatory oversight is significant.\n",
    "The near-perfect scores of the random forest might also be an indicator of overfitting. While it performs exceptionally on the current dataset, it's essential to continually validate its performance on new data to ensure its robustness.\n",
    "\n",
    "**Strategic Decisions**:\n",
    "\n",
    "Given the results, the business needs to weigh the trade-offs. If the priority is to reduce costs associated with fraudulent claims and improve operational efficiency, the random forest seems like the right choice. However, if the business values interpretability and wants a simpler model, especially in the initial phases of implementing a predictive system, logistic regression could be a starting point.\n"
   ]
  },
  {
   "attachments": {},
   "cell_type": "markdown",
   "metadata": {},
   "source": [
    "## 8. Conclusion "
   ]
  },
  {
   "attachments": {},
   "cell_type": "markdown",
   "metadata": {},
   "source": [
    "### a) What has been successfully accomplished and what has not been successful?\n",
    "Accomplished Objectives:\n",
    "\n",
    "**Create Effective Prediction Models**:\n",
    "* Successfully developed both Logistic Regression and Random Forest classifiers, achieving a high accuracy rate, especially with the Random Forest model.\n",
    "\n",
    "**Ensure High Accuracy in Predictions:**\n",
    "* This objective has been largely achieved, especially with the Random Forest classifier, which boasts an accuracy of 98%. This exceeds the standard expectations for many real-world applications.\n",
    "\n",
    "**Minimize False Positives and Negatives:**\n",
    "* The Random Forest model has demonstrated high precision and recall, indicating its efficiency in minimizing both false positives and false negatives. However, the Logistic Regression model might lead to more false positives, given its precision score.\n",
    "\n",
    "**Achieve a Balanced Error Rate of 5%:**\n",
    "*  While the Random Forest model has an accuracy of 98%, implying an error rate of 2%, it is crucial to dive deeper into the false positive and false negative rates to ascertain if the balanced error rate is achieved.\n",
    "\n",
    "**Unsuccessful Aspects:**\n",
    "\n",
    "**Quantify the Financial Impact of Misclassifications:**\n",
    "* This particular objective has not been addressed yet. Assessing the financial repercussions of misclassifications is essential to provide a complete picture of the model's impact on the business.\n"
   ]
  },
  {
   "attachments": {},
   "cell_type": "markdown",
   "metadata": {},
   "source": [
    "### b) Reflecting back on the analysis, what could you have done differently if you were to do the project again?\n",
    "Upon reflection of the project, there are various potential enhancements and alternative approaches that could be considered for future iterations:\n",
    "\n",
    "Exploratory Data Analysis (EDA): Although not explicitly mentioned, conducting a comprehensive EDA is essential. This would involve thoroughly analyzing the data to gain deeper insights, identify patterns and correlations, and potentially detect any outliers or anomalies. EDA would also aid in the selection and engineering of relevant features.\n",
    "\n",
    "Model Selection and Experimentation: Alongside Logistic Regression and Random Forest, exploring other algorithms such as Gradient Boosting, Support Vector Machines (SVM), or neural networks could be worthwhile. This exploration might yield improved results or provide alternative options that strike a balance between accuracy and complexity.\n",
    "\n",
    "Hyperparameter Tuning: Depending on the available computational resources, further refinement of the selected models through hyperparameter tuning could enhance their performance.\n"
   ]
  },
  {
   "attachments": {},
   "cell_type": "markdown",
   "metadata": {},
   "source": [
    "### c) Provide a wish list of future work that you would like to do\n"
   ]
  },
  {
   "attachments": {},
   "cell_type": "markdown",
   "metadata": {},
   "source": [
    "Here's a list of future tasks that could enhance this project:\n",
    "\n",
    "Dataset Expansion: Obtain additional data or different types of data (such as text data from claim descriptions, geolocation data, or time-series data) to potentially reveal more insights and enhance the model's performance.\n",
    "\n",
    "Real-Time Fraud Detection: Develop a system for real-time fraud detection that can promptly identify and flag fraudulent claims upon submission. This could greatly reduce processing time and expenses.\n",
    "\n",
    "Deep Learning Models: Explore the utilization of deep learning models for prediction. Although these models require substantial data and computational resources, they have the potential to improve accuracy, particularly when dealing with complex or unstructured data."
   ]
  }
 ],
 "metadata": {
  "kernelspec": {
   "display_name": "Python 3 (ipykernel)",
   "language": "python",
   "name": "python3"
  },
  "language_info": {
   "codemirror_mode": {
    "name": "ipython",
    "version": 3
   },
   "file_extension": ".py",
   "mimetype": "text/x-python",
   "name": "python",
   "nbconvert_exporter": "python",
   "pygments_lexer": "ipython3",
   "version": "3.10.0"
  }
 },
 "nbformat": 4,
 "nbformat_minor": 2
}
