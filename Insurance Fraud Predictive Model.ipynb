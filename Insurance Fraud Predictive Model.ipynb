{
 "cells": [
  {
   "attachments": {},
   "cell_type": "markdown",
   "metadata": {},
   "source": [
    "# Insurance Fraud Predictive Model"
   ]
  },
  {
   "cell_type": "markdown",
   "metadata": {},
   "source": [
    "## Case Study\n",
    "\n",
    "An insurance company plans to utilise their historic insurance fraud dataset to predict the likelihood or the level of risk a customer poses. Referring genuine claims cause customer stress and directly leads to customer loss, costing the company money (assume that any referred non-fraud case will lead to losing that customer). While obviously, fraud claims cost the company as well. Their main requirement is to use an unbiased predictive model capable of flagging and referring potential fraud cases for further investigation with a balanced error rate of 5% "
   ]
  },
  {
   "attachments": {},
   "cell_type": "markdown",
   "metadata": {},
   "source": [
    "## 1. Aims and objectives"
   ]
  },
  {
   "attachments": {},
   "cell_type": "markdown",
   "metadata": {},
   "source": [
    "### a) Aims and objectives"
   ]
  },
  {
   "attachments": {},
   "cell_type": "markdown",
   "metadata": {},
   "source": [
    "Aim:\n",
    "\n",
    "The aim of this case study analysis is to develop an unbiased predictive model capable of identifying potential fraud cases in insurance claims with a balanced error rate of 5%. This would assist in minimizing the cost of false positives (referring genuine claims, leading to customer loss) and false negatives (not identifying fraudulent claims).\n",
    "\n",
    "Objectives:\n",
    "\n",
    "Data Understanding and Preparation: Analyze the given dataset and extract key insights from the historic insurance fraud dataset. Preprocess and clean the data, ensuring it is suitable for further analysis. Merge all necessary files to form a unified dataset.\n",
    "\n",
    "Model Development: Build a predictive model utilizing Machine Learning techniques to forecast the likelihood of fraudulent cases. Here, both accuracy (model's performance) and fairness (unbiased decision-making) should be considered.\n",
    "\n",
    "Evaluation: Use appropriate metrics for model evaluation. The goal is to maintain an error rate of 5% or less, as specified by the client.\n"
   ]
  },
  {
   "attachments": {},
   "cell_type": "markdown",
   "metadata": {},
   "source": [
    "## 2. Understanding the case study "
   ]
  },
  {
   "attachments": {},
   "cell_type": "markdown",
   "metadata": {},
   "source": [
    "###  Case study analysis\n",
    "\n",
    "1. The insurance company wants to predict the likelihood of a customer posing a risk of insurance fraud. The aim is to use an unbiased predictive model to flag potential fraud cases for further investigation\n",
    "2. The company desires a balanced error rate of 5%. This means that the model should aim to have an equal number of false positives and false negatives, with the total error not exceeding 5%.\n",
    "3. There are significant costs associated with both types of errors. False positives (referring genuine claims as fraudulent) can lead to customer loss, while false negatives (failing to identify actual fraudulent claims) result in financial loss to the company.\n",
    "4. Ensure the model is unbiased by carefully selecting features for prediction and ensuring they do not indirectly encode any form of bias\n",
    "\n"
   ]
  },
  {
   "attachments": {},
   "cell_type": "markdown",
   "metadata": {},
   "source": [
    "## 3. Pre-processing applied \n"
   ]
  },
  {
   "cell_type": "code",
   "execution_count": 1,
   "metadata": {},
   "outputs": [],
   "source": [
    "import pandas as pd\n",
    "import numpy as np\n",
    "from sklearn.preprocessing import LabelEncoder\n",
    "import matplotlib.pyplot as plt\n",
    "from sklearn.feature_selection import mutual_info_classif\n",
    "from sklearn.linear_model import LinearRegression\n",
    "from sklearn.compose import ColumnTransformer\n",
    "from sklearn.pipeline import Pipeline\n",
    "from sklearn.impute import SimpleImputer\n",
    "from sklearn.preprocessing import StandardScaler, OneHotEncoder\n",
    "from sklearn.ensemble import RandomForestClassifier\n",
    "from sklearn.model_selection import train_test_split\n",
    "from sklearn.linear_model import LogisticRegression\n",
    "from sklearn.model_selection import cross_val_score ,KFold\n",
    "from sklearn.model_selection import GridSearchCV"
   ]
  },
  {
   "cell_type": "code",
   "execution_count": 2,
   "metadata": {},
   "outputs": [
    {
     "data": {
      "text/html": [
       "<div>\n",
       "<style scoped>\n",
       "    .dataframe tbody tr th:only-of-type {\n",
       "        vertical-align: middle;\n",
       "    }\n",
       "\n",
       "    .dataframe tbody tr th {\n",
       "        vertical-align: top;\n",
       "    }\n",
       "\n",
       "    .dataframe thead th {\n",
       "        text-align: right;\n",
       "    }\n",
       "</style>\n",
       "<table border=\"1\" class=\"dataframe\">\n",
       "  <thead>\n",
       "    <tr style=\"text-align: right;\">\n",
       "      <th></th>\n",
       "      <th>CustomerID</th>\n",
       "      <th>InsuredAge</th>\n",
       "      <th>InsuredZipCode</th>\n",
       "      <th>InsuredGender</th>\n",
       "      <th>InsuredEducationLevel</th>\n",
       "      <th>InsuredOccupation</th>\n",
       "      <th>InsuredHobbies</th>\n",
       "      <th>CapitalGains</th>\n",
       "      <th>CapitalLoss</th>\n",
       "      <th>Country</th>\n",
       "      <th>...</th>\n",
       "      <th>BodilyInjuries</th>\n",
       "      <th>Witnesses</th>\n",
       "      <th>PoliceReport</th>\n",
       "      <th>AmountOfTotalClaim</th>\n",
       "      <th>AmountOfInjuryClaim</th>\n",
       "      <th>AmountOfPropertyClaim</th>\n",
       "      <th>AmountOfVehicleDamage</th>\n",
       "      <th>VehicleAttribute</th>\n",
       "      <th>VehicleAttributeDetails</th>\n",
       "      <th>ReportedFraud</th>\n",
       "    </tr>\n",
       "  </thead>\n",
       "  <tbody>\n",
       "    <tr>\n",
       "      <th>0</th>\n",
       "      <td>Cust10000</td>\n",
       "      <td>35</td>\n",
       "      <td>454776</td>\n",
       "      <td>MALE</td>\n",
       "      <td>JD</td>\n",
       "      <td>armed-forces</td>\n",
       "      <td>movies</td>\n",
       "      <td>56700</td>\n",
       "      <td>-48500</td>\n",
       "      <td>India</td>\n",
       "      <td>...</td>\n",
       "      <td>1</td>\n",
       "      <td>0</td>\n",
       "      <td>?</td>\n",
       "      <td>65501</td>\n",
       "      <td>13417</td>\n",
       "      <td>6071</td>\n",
       "      <td>46013</td>\n",
       "      <td>VehicleID</td>\n",
       "      <td>Vehicle26917</td>\n",
       "      <td>N</td>\n",
       "    </tr>\n",
       "    <tr>\n",
       "      <th>1</th>\n",
       "      <td>Cust10000</td>\n",
       "      <td>35</td>\n",
       "      <td>454776</td>\n",
       "      <td>MALE</td>\n",
       "      <td>JD</td>\n",
       "      <td>armed-forces</td>\n",
       "      <td>movies</td>\n",
       "      <td>56700</td>\n",
       "      <td>-48500</td>\n",
       "      <td>India</td>\n",
       "      <td>...</td>\n",
       "      <td>1</td>\n",
       "      <td>0</td>\n",
       "      <td>?</td>\n",
       "      <td>65501</td>\n",
       "      <td>13417</td>\n",
       "      <td>6071</td>\n",
       "      <td>46013</td>\n",
       "      <td>VehicleModel</td>\n",
       "      <td>A5</td>\n",
       "      <td>N</td>\n",
       "    </tr>\n",
       "    <tr>\n",
       "      <th>2</th>\n",
       "      <td>Cust10000</td>\n",
       "      <td>35</td>\n",
       "      <td>454776</td>\n",
       "      <td>MALE</td>\n",
       "      <td>JD</td>\n",
       "      <td>armed-forces</td>\n",
       "      <td>movies</td>\n",
       "      <td>56700</td>\n",
       "      <td>-48500</td>\n",
       "      <td>India</td>\n",
       "      <td>...</td>\n",
       "      <td>1</td>\n",
       "      <td>0</td>\n",
       "      <td>?</td>\n",
       "      <td>65501</td>\n",
       "      <td>13417</td>\n",
       "      <td>6071</td>\n",
       "      <td>46013</td>\n",
       "      <td>VehicleYOM</td>\n",
       "      <td>2008</td>\n",
       "      <td>N</td>\n",
       "    </tr>\n",
       "    <tr>\n",
       "      <th>3</th>\n",
       "      <td>Cust10000</td>\n",
       "      <td>35</td>\n",
       "      <td>454776</td>\n",
       "      <td>MALE</td>\n",
       "      <td>JD</td>\n",
       "      <td>armed-forces</td>\n",
       "      <td>movies</td>\n",
       "      <td>56700</td>\n",
       "      <td>-48500</td>\n",
       "      <td>India</td>\n",
       "      <td>...</td>\n",
       "      <td>1</td>\n",
       "      <td>0</td>\n",
       "      <td>?</td>\n",
       "      <td>65501</td>\n",
       "      <td>13417</td>\n",
       "      <td>6071</td>\n",
       "      <td>46013</td>\n",
       "      <td>VehicleMake</td>\n",
       "      <td>Audi</td>\n",
       "      <td>N</td>\n",
       "    </tr>\n",
       "    <tr>\n",
       "      <th>4</th>\n",
       "      <td>Cust10001</td>\n",
       "      <td>36</td>\n",
       "      <td>454776</td>\n",
       "      <td>MALE</td>\n",
       "      <td>JD</td>\n",
       "      <td>tech-support</td>\n",
       "      <td>cross-fit</td>\n",
       "      <td>70600</td>\n",
       "      <td>-48500</td>\n",
       "      <td>India</td>\n",
       "      <td>...</td>\n",
       "      <td>2</td>\n",
       "      <td>1</td>\n",
       "      <td>YES</td>\n",
       "      <td>61382</td>\n",
       "      <td>15560</td>\n",
       "      <td>5919</td>\n",
       "      <td>39903</td>\n",
       "      <td>VehicleYOM</td>\n",
       "      <td>2006</td>\n",
       "      <td>N</td>\n",
       "    </tr>\n",
       "  </tbody>\n",
       "</table>\n",
       "<p>5 rows × 40 columns</p>\n",
       "</div>"
      ],
      "text/plain": [
       "  CustomerID  InsuredAge  InsuredZipCode InsuredGender InsuredEducationLevel  \\\n",
       "0  Cust10000          35          454776          MALE                    JD   \n",
       "1  Cust10000          35          454776          MALE                    JD   \n",
       "2  Cust10000          35          454776          MALE                    JD   \n",
       "3  Cust10000          35          454776          MALE                    JD   \n",
       "4  Cust10001          36          454776          MALE                    JD   \n",
       "\n",
       "  InsuredOccupation InsuredHobbies  CapitalGains  CapitalLoss Country  ...  \\\n",
       "0      armed-forces         movies         56700       -48500   India  ...   \n",
       "1      armed-forces         movies         56700       -48500   India  ...   \n",
       "2      armed-forces         movies         56700       -48500   India  ...   \n",
       "3      armed-forces         movies         56700       -48500   India  ...   \n",
       "4      tech-support      cross-fit         70600       -48500   India  ...   \n",
       "\n",
       "   BodilyInjuries  Witnesses PoliceReport AmountOfTotalClaim  \\\n",
       "0               1          0            ?              65501   \n",
       "1               1          0            ?              65501   \n",
       "2               1          0            ?              65501   \n",
       "3               1          0            ?              65501   \n",
       "4               2          1          YES              61382   \n",
       "\n",
       "  AmountOfInjuryClaim  AmountOfPropertyClaim  AmountOfVehicleDamage  \\\n",
       "0               13417                   6071                  46013   \n",
       "1               13417                   6071                  46013   \n",
       "2               13417                   6071                  46013   \n",
       "3               13417                   6071                  46013   \n",
       "4               15560                   5919                  39903   \n",
       "\n",
       "   VehicleAttribute VehicleAttributeDetails ReportedFraud  \n",
       "0         VehicleID            Vehicle26917             N  \n",
       "1      VehicleModel                      A5             N  \n",
       "2        VehicleYOM                    2008             N  \n",
       "3       VehicleMake                    Audi             N  \n",
       "4        VehicleYOM                    2006             N  \n",
       "\n",
       "[5 rows x 40 columns]"
      ]
     },
     "execution_count": 2,
     "metadata": {},
     "output_type": "execute_result"
    }
   ],
   "source": [
    "df_demographics = pd.read_csv(\"Train_Demographics.csv\")\n",
    "df_policy = pd.read_csv('Train_Policy.csv')\n",
    "df_claim = pd.read_csv('Train_Claim.csv')\n",
    "df_vehicle = pd.read_csv('Train_Vehicle.csv')\n",
    "df_target = pd.read_csv('Traindata_with_Target.csv')\n",
    "\n",
    "# Merge all dataframes on 'CustomerID'\n",
    "df = pd.merge(df_demographics, df_policy, on='CustomerID')\n",
    "df = pd.merge(df, df_claim, on='CustomerID')\n",
    "df = pd.merge(df, df_vehicle, on='CustomerID')\n",
    "df = pd.merge(df, df_target, on='CustomerID')\n",
    "\n",
    "# Display the first few rows of the merged dataframe\n",
    "df.head()"
   ]
  },
  {
   "cell_type": "code",
   "execution_count": 3,
   "metadata": {},
   "outputs": [
    {
     "data": {
      "text/plain": [
       "CustomerID                     object\n",
       "InsuredAge                      int64\n",
       "InsuredZipCode                  int64\n",
       "InsuredGender                  object\n",
       "InsuredEducationLevel          object\n",
       "InsuredOccupation              object\n",
       "InsuredHobbies                 object\n",
       "CapitalGains                    int64\n",
       "CapitalLoss                     int64\n",
       "Country                        object\n",
       "InsurancePolicyNumber           int64\n",
       "CustomerLoyaltyPeriod           int64\n",
       "DateOfPolicyCoverage           object\n",
       "InsurancePolicyState           object\n",
       "Policy_CombinedSingleLimit     object\n",
       "Policy_Deductible               int64\n",
       "PolicyAnnualPremium           float64\n",
       "UmbrellaLimit                   int64\n",
       "InsuredRelationship            object\n",
       "DateOfIncident                 object\n",
       "TypeOfIncident                 object\n",
       "TypeOfCollission               object\n",
       "SeverityOfIncident             object\n",
       "AuthoritiesContacted           object\n",
       "IncidentState                  object\n",
       "IncidentCity                   object\n",
       "IncidentAddress                object\n",
       "IncidentTime                    int64\n",
       "NumberOfVehicles                int64\n",
       "PropertyDamage                 object\n",
       "BodilyInjuries                  int64\n",
       "Witnesses                      object\n",
       "PoliceReport                   object\n",
       "AmountOfTotalClaim             object\n",
       "AmountOfInjuryClaim             int64\n",
       "AmountOfPropertyClaim           int64\n",
       "AmountOfVehicleDamage           int64\n",
       "VehicleAttribute               object\n",
       "VehicleAttributeDetails        object\n",
       "ReportedFraud                  object\n",
       "dtype: object"
      ]
     },
     "execution_count": 3,
     "metadata": {},
     "output_type": "execute_result"
    }
   ],
   "source": [
    "df.dtypes"
   ]
  },
  {
   "attachments": {},
   "cell_type": "markdown",
   "metadata": {},
   "source": [
    "###  a) Preparing the labels appropriately if necessary "
   ]
  },
  {
   "cell_type": "code",
   "execution_count": 4,
   "metadata": {},
   "outputs": [],
   "source": [
    "# Binary Encoding\n",
    "# LabelEncoder to convert 'Fraud' to 1 and 'Not Fraud' to 0\n",
    "le = LabelEncoder()\n",
    "df['ReportedFraud'] = le.fit_transform(df['ReportedFraud'])"
   ]
  },
  {
   "attachments": {},
   "cell_type": "markdown",
   "metadata": {},
   "source": [
    "###  b) Removing synonymous and noisy attributes if necessary \n"
   ]
  },
  {
   "cell_type": "code",
   "execution_count": 5,
   "metadata": {},
   "outputs": [],
   "source": [
    "unnecessary_attribute = ['CustomerID', 'Country', 'DateOfPolicyCoverage', 'DateOfIncident', \n",
    "                         'IncidentAddress', 'VehicleAttribute', 'VehicleAttributeDetails','InsuredZipCode',\n",
    "                         'InsurancePolicyNumber','InsuredHobbies','IncidentTime','AmountOfInjuryClaim','AmountOfPropertyClaim',\n",
    "                         'AmountOfVehicleDamage','Policy_CombinedSingleLimit'  ]\n",
    "df = df.drop(unnecessary_attribute, axis=1)"
   ]
  },
  {
   "attachments": {},
   "cell_type": "markdown",
   "metadata": {},
   "source": [
    "###  c) Dealing with missing values if necessary \n"
   ]
  },
  {
   "cell_type": "code",
   "execution_count": 6,
   "metadata": {},
   "outputs": [],
   "source": [
    "missing_values = ['?', 'NA', 'MISSINGVAL','???','MISSEDDATA','MISSINGVALUE']\n",
    "for missing_value_symbol in missing_values:\n",
    "    df = df.replace(missing_value_symbol, np.NaN)\n",
    "\n",
    "df.head()\n",
    "df.isnull().sum()\n",
    "missing_data = df.isnull().sum() / len(df) * 100\n",
    "# print(missing_data)\n",
    "\n",
    "# #For 'TypeOfCollission', 'PropertyDamage', and 'PoliceReport' which have 17.9%, 36.27%, and 34% missing data respectively.\n",
    "# we fill the missing values with 'Unknown' as  a separate category \n",
    "df['TypeOfCollission'].fillna('Unknown', inplace=True)\n",
    "df['PropertyDamage'].fillna('Unknown', inplace=True)\n",
    "df['PoliceReport'].fillna('Unknown', inplace=True)\n",
    "\n",
    "# For 'InsuredGender', 'Country', and 'VehicleAttributeDetails','AmountOfTotalClaim' and 'Witnesses' we drop the rows with missing values. \n",
    "# Since the percentage of missing values in these columns is less than 1%\n",
    "df = df.dropna(subset=['InsuredGender','Witnesses','AmountOfTotalClaim'])\n",
    "df.isnull().sum()\n",
    "\n",
    "#For 'PolicyAnnualPremium' the percentage of missing values is 0.49% so we drop the rows with missing values\n",
    "anual_prem = df[df['PolicyAnnualPremium'] == -1].shape[0]/df.shape[0] * 100\n",
    "#Drop all the value == -1 in PolicyAnnualPremium\n",
    "df = df[df['PolicyAnnualPremium'] != -1]"
   ]
  },
  {
   "attachments": {},
   "cell_type": "markdown",
   "metadata": {},
   "source": [
    "###  d) Relabeling for some attributes \n"
   ]
  },
  {
   "cell_type": "code",
   "execution_count": 7,
   "metadata": {},
   "outputs": [],
   "source": [
    "# Create a dictionary to map the education levels to their relabeled values\n",
    "relabeled_education_levels = {\n",
    "    \"PhD\": 7,\n",
    "    \"MD\": 6,\n",
    "    \"JD\": 5,\n",
    "    \"Masters\": 4,\n",
    "    \"College\": 3,\n",
    "    \"Associate\": 2,\n",
    "    \"High School\": 1,\n",
    "}\n",
    "df[\"InsuredEducationLevel\"] = df[\"InsuredEducationLevel\"].replace(relabeled_education_levels)\n",
    "\n",
    "\n",
    "# Encode the categorical features\n",
    "for col in df.columns:\n",
    "    if df[col].dtype == 'object':\n",
    "        df[col] = le.fit_transform(df[col].astype(str))  \n",
    "\n",
    "# convert AmountOfTotalClaim and Witnesses to int64\n",
    "df['AmountOfTotalClaim'] = df['AmountOfTotalClaim'].astype(int)\n",
    "df['Witnesses'] = df['Witnesses'].astype(int)\n",
    "\n",
    "# convert 'CapitalLoss' positive \n",
    "df['CapitalLoss'] = df['CapitalLoss'].abs()\n",
    "#convert all the negative of 'UmbrellaLimit' become 0\n",
    "df['UmbrellaLimit'] = df['UmbrellaLimit'].clip(lower=0)"
   ]
  },
  {
   "attachments": {},
   "cell_type": "markdown",
   "metadata": {},
   "source": [
    "### e) Other"
   ]
  },
  {
   "cell_type": "code",
   "execution_count": 8,
   "metadata": {},
   "outputs": [
    {
     "name": "stderr",
     "output_type": "stream",
     "text": [
      "C:\\Users\\Justin\\AppData\\Local\\Temp\\ipykernel_53344\\1837022777.py:16: RuntimeWarning: divide by zero encountered in scalar divide\n",
      "  vif_i = 1/(1 - r_squared_i)\n"
     ]
    },
    {
     "name": "stdout",
     "output_type": "stream",
     "text": [
      "VIF for InsuredAge: inf\n",
      "VIF for InsuredGender: 7.830844534471831\n",
      "VIF for InsuredEducationLevel: 1.0132492054920663\n",
      "VIF for InsuredOccupation: 1.0085978257307229\n",
      "VIF for CapitalGains: 1.0081223631072158\n",
      "VIF for CapitalLoss: 1.02075763442917\n",
      "VIF for CustomerLoyaltyPeriod: 1.0166828451678898\n",
      "VIF for InsurancePolicyState: 7.817810483857946\n",
      "VIF for Policy_Deductible: 1.014660714701352\n",
      "VIF for PolicyAnnualPremium: 1.021602934174865\n",
      "VIF for UmbrellaLimit: 1.020124979172929\n",
      "VIF for InsuredRelationship: 1.0268096326370966\n",
      "VIF for TypeOfIncident: 1.0182960460218458\n",
      "VIF for TypeOfCollission: 3.006492449847908\n",
      "VIF for SeverityOfIncident: 1.2163720058713485\n",
      "VIF for AuthoritiesContacted: 1.1193856943789908\n",
      "VIF for IncidentState: 1.069104502853025\n",
      "VIF for IncidentCity: 1.0292679107069114\n",
      "VIF for NumberOfVehicles: 1.016231146126819\n",
      "VIF for PropertyDamage: 3.049227892461801\n",
      "VIF for BodilyInjuries: 1.0194328143085374\n",
      "VIF for Witnesses: 1.01570859470901\n",
      "VIF for PoliceReport: 1.0226759909439922\n",
      "VIF for AmountOfTotalClaim: 1.016666441611809\n"
     ]
    }
   ],
   "source": [
    "# Checking the balance of classes\n",
    "class_balance = df['ReportedFraud'].value_counts(normalize=True)\n",
    "class_balance\n",
    "\n",
    "#checking for multicollinearity\n",
    "def variance_inflation_factor(X, idx):\n",
    "    ones = np.ones(shape=(X.shape[0], 1))\n",
    "    X = np.append(ones, X, axis=1)\n",
    "    X_noti = np.delete(X, idx, axis=1)\n",
    "    X_i = X[:, idx]\n",
    "\n",
    "    model = LinearRegression()\n",
    "    model.fit(X_noti, X_i)\n",
    "\n",
    "    r_squared_i = model.score(X_noti, X_i)\n",
    "    vif_i = 1/(1 - r_squared_i)\n",
    "\n",
    "    return vif_i\n",
    "\n",
    "# Select only the numeric columns (excluding 'ReportedFraud')\n",
    "numeric_cols = df.select_dtypes(include=[np.number]).drop(columns='ReportedFraud')\n",
    "\n",
    "# Calculate and print the VIF for each feature\n",
    "for i in range(numeric_cols.shape[1]):\n",
    "    vif = variance_inflation_factor(numeric_cols.values, i)\n",
    "    print(f'VIF for {numeric_cols.columns[i]}: {vif}')\n",
    "    \n",
    "# Drop the columns with VIF > 5\n",
    "df = df.drop(columns=['InsuredAge','InsuredGender','InsurancePolicyState'])"
   ]
  },
  {
   "attachments": {},
   "cell_type": "markdown",
   "metadata": {},
   "source": [
    " ### f) Appropriate feature selection"
   ]
  },
  {
   "cell_type": "code",
   "execution_count": 9,
   "metadata": {},
   "outputs": [
    {
     "data": {
      "text/plain": [
       "PolicyAnnualPremium      0.484469\n",
       "AmountOfTotalClaim       0.453592\n",
       "UmbrellaLimit            0.157699\n",
       "CapitalLoss              0.132346\n",
       "CapitalGains             0.124741\n",
       "SeverityOfIncident       0.100992\n",
       "Policy_Deductible        0.027363\n",
       "TypeOfIncident           0.016696\n",
       "TypeOfCollission         0.015329\n",
       "AuthoritiesContacted     0.014381\n",
       "PropertyDamage           0.011028\n",
       "NumberOfVehicles         0.010813\n",
       "IncidentState            0.010486\n",
       "CustomerLoyaltyPeriod    0.008866\n",
       "InsuredOccupation        0.007694\n",
       "BodilyInjuries           0.005923\n",
       "PoliceReport             0.004779\n",
       "InsuredRelationship      0.004768\n",
       "Witnesses                0.003369\n",
       "IncidentCity             0.001317\n",
       "InsuredEducationLevel    0.001241\n",
       "dtype: float64"
      ]
     },
     "execution_count": 9,
     "metadata": {},
     "output_type": "execute_result"
    }
   ],
   "source": [
    "# Separate the features and the target\n",
    "X = df.drop(columns='ReportedFraud')\n",
    "y = df['ReportedFraud']\n",
    "\n",
    "# Calculate the mutual information between each feature and the target\n",
    "mi = mutual_info_classif(X, y)\n",
    "\n",
    "# Create a Series from the mutual information, with the feature names as the index\n",
    "mi_series = pd.Series(mi, index=X.columns)\n",
    "\n",
    "# Sort the Series in descending order\n",
    "mi_series.sort_values(ascending=False, inplace=True)\n",
    "\n",
    "# Print the mutual information\n",
    "mi_series"
   ]
  },
  {
   "attachments": {},
   "cell_type": "markdown",
   "metadata": {},
   "source": [
    "## 4. Technique 1: LogisticRegression "
   ]
  },
  {
   "attachments": {},
   "cell_type": "markdown",
   "metadata": {},
   "source": [
    "### a) Motivation for choosing the technique and the schematic figure of the process\n",
    "\n",
    "\n",
    "Motivation for choosing the technique: Logistic Regression is a simple yet powerful linear model that is widely used for binary classification problems. It is easy to implement, interpret, and very efficient to train. It makes no assumptions about distributions of classes in feature space. They can be linearly separable, or not. Logistic regression can also be regularized by penalizing coefficients with a tunable penalty strength.\n",
    "\n",
    "Setting hyper parameters: The main hyperparameter in Logistic Regression is the regularization strength 'C', which can prevent overfitting. A smaller value specifies stronger regularization.\n",
    "\n",
    "Optimizing the hyperparameters: GridSearchCV will be used for hyperparameter tuning. It is a method used to tune our hyperparameters. We can pass different values of hyperparameters as parameters for grid search. It does a exhaustive generation of combination of parameters passed and returns the best combination/result.\n",
    "\n",
    "Performance metrics for training set:  Accuracy, precision, recall, and F1-score will be the performance metrics. That these are common metrics for binary classification problems.\n"
   ]
  },
  {
   "attachments": {},
   "cell_type": "markdown",
   "metadata": {},
   "source": [
    "### b) Setting hyper parameters with rationale"
   ]
  },
  {
   "cell_type": "code",
   "execution_count": 10,
   "metadata": {},
   "outputs": [],
   "source": [
    "# Split the data into features and target\n",
    "X = df.drop('ReportedFraud', axis=1)\n",
    "y = df['ReportedFraud']\n",
    "\n",
    "# Split the data into a training set and a test set\n",
    "X_train, X_test, y_train, y_test = train_test_split(X, y, test_size=0.2, random_state=42)"
   ]
  },
  {
   "cell_type": "code",
   "execution_count": 11,
   "metadata": {},
   "outputs": [
    {
     "data": {
      "text/html": [
       "<style>#sk-container-id-1 {color: black;background-color: white;}#sk-container-id-1 pre{padding: 0;}#sk-container-id-1 div.sk-toggleable {background-color: white;}#sk-container-id-1 label.sk-toggleable__label {cursor: pointer;display: block;width: 100%;margin-bottom: 0;padding: 0.3em;box-sizing: border-box;text-align: center;}#sk-container-id-1 label.sk-toggleable__label-arrow:before {content: \"▸\";float: left;margin-right: 0.25em;color: #696969;}#sk-container-id-1 label.sk-toggleable__label-arrow:hover:before {color: black;}#sk-container-id-1 div.sk-estimator:hover label.sk-toggleable__label-arrow:before {color: black;}#sk-container-id-1 div.sk-toggleable__content {max-height: 0;max-width: 0;overflow: hidden;text-align: left;background-color: #f0f8ff;}#sk-container-id-1 div.sk-toggleable__content pre {margin: 0.2em;color: black;border-radius: 0.25em;background-color: #f0f8ff;}#sk-container-id-1 input.sk-toggleable__control:checked~div.sk-toggleable__content {max-height: 200px;max-width: 100%;overflow: auto;}#sk-container-id-1 input.sk-toggleable__control:checked~label.sk-toggleable__label-arrow:before {content: \"▾\";}#sk-container-id-1 div.sk-estimator input.sk-toggleable__control:checked~label.sk-toggleable__label {background-color: #d4ebff;}#sk-container-id-1 div.sk-label input.sk-toggleable__control:checked~label.sk-toggleable__label {background-color: #d4ebff;}#sk-container-id-1 input.sk-hidden--visually {border: 0;clip: rect(1px 1px 1px 1px);clip: rect(1px, 1px, 1px, 1px);height: 1px;margin: -1px;overflow: hidden;padding: 0;position: absolute;width: 1px;}#sk-container-id-1 div.sk-estimator {font-family: monospace;background-color: #f0f8ff;border: 1px dotted black;border-radius: 0.25em;box-sizing: border-box;margin-bottom: 0.5em;}#sk-container-id-1 div.sk-estimator:hover {background-color: #d4ebff;}#sk-container-id-1 div.sk-parallel-item::after {content: \"\";width: 100%;border-bottom: 1px solid gray;flex-grow: 1;}#sk-container-id-1 div.sk-label:hover label.sk-toggleable__label {background-color: #d4ebff;}#sk-container-id-1 div.sk-serial::before {content: \"\";position: absolute;border-left: 1px solid gray;box-sizing: border-box;top: 0;bottom: 0;left: 50%;z-index: 0;}#sk-container-id-1 div.sk-serial {display: flex;flex-direction: column;align-items: center;background-color: white;padding-right: 0.2em;padding-left: 0.2em;position: relative;}#sk-container-id-1 div.sk-item {position: relative;z-index: 1;}#sk-container-id-1 div.sk-parallel {display: flex;align-items: stretch;justify-content: center;background-color: white;position: relative;}#sk-container-id-1 div.sk-item::before, #sk-container-id-1 div.sk-parallel-item::before {content: \"\";position: absolute;border-left: 1px solid gray;box-sizing: border-box;top: 0;bottom: 0;left: 50%;z-index: -1;}#sk-container-id-1 div.sk-parallel-item {display: flex;flex-direction: column;z-index: 1;position: relative;background-color: white;}#sk-container-id-1 div.sk-parallel-item:first-child::after {align-self: flex-end;width: 50%;}#sk-container-id-1 div.sk-parallel-item:last-child::after {align-self: flex-start;width: 50%;}#sk-container-id-1 div.sk-parallel-item:only-child::after {width: 0;}#sk-container-id-1 div.sk-dashed-wrapped {border: 1px dashed gray;margin: 0 0.4em 0.5em 0.4em;box-sizing: border-box;padding-bottom: 0.4em;background-color: white;}#sk-container-id-1 div.sk-label label {font-family: monospace;font-weight: bold;display: inline-block;line-height: 1.2em;}#sk-container-id-1 div.sk-label-container {text-align: center;}#sk-container-id-1 div.sk-container {/* jupyter's `normalize.less` sets `[hidden] { display: none; }` but bootstrap.min.css set `[hidden] { display: none !important; }` so we also need the `!important` here to be able to override the default hidden behavior on the sphinx rendered scikit-learn.org. See: https://github.com/scikit-learn/scikit-learn/issues/21755 */display: inline-block !important;position: relative;}#sk-container-id-1 div.sk-text-repr-fallback {display: none;}</style><div id=\"sk-container-id-1\" class=\"sk-top-container\"><div class=\"sk-text-repr-fallback\"><pre>Pipeline(steps=[(&#x27;scaler&#x27;, StandardScaler()),\n",
       "                (&#x27;classifier&#x27;, LogisticRegression(class_weight=&#x27;balanced&#x27;))])</pre><b>In a Jupyter environment, please rerun this cell to show the HTML representation or trust the notebook. <br />On GitHub, the HTML representation is unable to render, please try loading this page with nbviewer.org.</b></div><div class=\"sk-container\" hidden><div class=\"sk-item sk-dashed-wrapped\"><div class=\"sk-label-container\"><div class=\"sk-label sk-toggleable\"><input class=\"sk-toggleable__control sk-hidden--visually\" id=\"sk-estimator-id-1\" type=\"checkbox\" ><label for=\"sk-estimator-id-1\" class=\"sk-toggleable__label sk-toggleable__label-arrow\">Pipeline</label><div class=\"sk-toggleable__content\"><pre>Pipeline(steps=[(&#x27;scaler&#x27;, StandardScaler()),\n",
       "                (&#x27;classifier&#x27;, LogisticRegression(class_weight=&#x27;balanced&#x27;))])</pre></div></div></div><div class=\"sk-serial\"><div class=\"sk-item\"><div class=\"sk-estimator sk-toggleable\"><input class=\"sk-toggleable__control sk-hidden--visually\" id=\"sk-estimator-id-2\" type=\"checkbox\" ><label for=\"sk-estimator-id-2\" class=\"sk-toggleable__label sk-toggleable__label-arrow\">StandardScaler</label><div class=\"sk-toggleable__content\"><pre>StandardScaler()</pre></div></div></div><div class=\"sk-item\"><div class=\"sk-estimator sk-toggleable\"><input class=\"sk-toggleable__control sk-hidden--visually\" id=\"sk-estimator-id-3\" type=\"checkbox\" ><label for=\"sk-estimator-id-3\" class=\"sk-toggleable__label sk-toggleable__label-arrow\">LogisticRegression</label><div class=\"sk-toggleable__content\"><pre>LogisticRegression(class_weight=&#x27;balanced&#x27;)</pre></div></div></div></div></div></div></div>"
      ],
      "text/plain": [
       "Pipeline(steps=[('scaler', StandardScaler()),\n",
       "                ('classifier', LogisticRegression(class_weight='balanced'))])"
      ]
     },
     "execution_count": 11,
     "metadata": {},
     "output_type": "execute_result"
    }
   ],
   "source": [
    "# Set up the pipeline\n",
    "pipelineLR = Pipeline(steps=[\n",
    "    ('scaler', StandardScaler()),\n",
    "    ('classifier', LogisticRegression(class_weight='balanced'))\n",
    "])\n",
    "pipelineLR"
   ]
  },
  {
   "attachments": {},
   "cell_type": "markdown",
   "metadata": {},
   "source": [
    "### c) Optimising hyper parameters\n"
   ]
  },
  {
   "cell_type": "code",
   "execution_count": 12,
   "metadata": {},
   "outputs": [],
   "source": [
    "# Set up the parameter grid for GridSearchCV\n",
    "param_grid_LR = {\n",
    "    'classifier__C': [0.001, 0.01, 0.1, 1, 10, 100]\n",
    "}\n",
    "# Optimize the hyperparameters using GridSearchCV\n",
    "grid_search = GridSearchCV(estimator=pipelineLR,param_grid= param_grid_LR, cv=5)"
   ]
  },
  {
   "attachments": {},
   "cell_type": "markdown",
   "metadata": {},
   "source": [
    "### d) Performance metrics for training"
   ]
  },
  {
   "cell_type": "code",
   "execution_count": 13,
   "metadata": {},
   "outputs": [
    {
     "name": "stdout",
     "output_type": "stream",
     "text": [
      "Test accuracy: 0.68\n"
     ]
    }
   ],
   "source": [
    "# Train the model on the entire training set using the selected hyperparameters\n",
    "grid_search.fit(X_train, y_train)\n",
    "best_params = grid_search.best_params_\n",
    "pipelineLR.set_params(**best_params)\n",
    "pipelineLR.fit(X_train, y_train)\n",
    "pipelineLR\n",
    "# Evaluate the model on the testing set\n",
    "test_scoreLR = pipelineLR.score(X_test, y_test)\n",
    "print(\"Test accuracy: %0.2f\" % test_scoreLR)"
   ]
  },
  {
   "attachments": {},
   "cell_type": "markdown",
   "metadata": {},
   "source": [
    "## 5. Technique 2: Random Forest Classifier "
   ]
  },
  {
   "attachments": {},
   "cell_type": "markdown",
   "metadata": {},
   "source": [
    "### a) Motivation for choosing the technique and the schematic figure of the process\n",
    "\n",
    "Motivation for choosing the technique: Random Forest is a versatile machine learning method capable of performing both regression and classification tasks. It is a type of ensemble learning method, where a group of weak models combine to form a powerful model. In Random Forest, we grow multiple trees as opposed to a single tree. To classify a new object based on attributes, each tree gives a classification. The forest chooses the classification having the most votes(over all the trees in the forest).\n",
    "\n",
    "Setting hyper parameters: The main hyperparameters in Random Forest are 'n_estimators' (The number of trees in the forest), 'max_features' (The number of features to consider when looking for the best split), and 'max_depth' (The maximum depth of the tree).\n",
    "\n",
    "Optimizing the hyperparameters: GridSearchCV will be use for hyperparameter tuning.\n",
    "\n",
    "Performance metrics for training set: Accuracy, precision, recall, and F1-score will be the performance metrics.\n"
   ]
  },
  {
   "attachments": {},
   "cell_type": "markdown",
   "metadata": {},
   "source": [
    "### b) Setting hyper parameters with rationale\n"
   ]
  },
  {
   "cell_type": "code",
   "execution_count": 14,
   "metadata": {},
   "outputs": [
    {
     "data": {
      "text/html": [
       "<style>#sk-container-id-2 {color: black;background-color: white;}#sk-container-id-2 pre{padding: 0;}#sk-container-id-2 div.sk-toggleable {background-color: white;}#sk-container-id-2 label.sk-toggleable__label {cursor: pointer;display: block;width: 100%;margin-bottom: 0;padding: 0.3em;box-sizing: border-box;text-align: center;}#sk-container-id-2 label.sk-toggleable__label-arrow:before {content: \"▸\";float: left;margin-right: 0.25em;color: #696969;}#sk-container-id-2 label.sk-toggleable__label-arrow:hover:before {color: black;}#sk-container-id-2 div.sk-estimator:hover label.sk-toggleable__label-arrow:before {color: black;}#sk-container-id-2 div.sk-toggleable__content {max-height: 0;max-width: 0;overflow: hidden;text-align: left;background-color: #f0f8ff;}#sk-container-id-2 div.sk-toggleable__content pre {margin: 0.2em;color: black;border-radius: 0.25em;background-color: #f0f8ff;}#sk-container-id-2 input.sk-toggleable__control:checked~div.sk-toggleable__content {max-height: 200px;max-width: 100%;overflow: auto;}#sk-container-id-2 input.sk-toggleable__control:checked~label.sk-toggleable__label-arrow:before {content: \"▾\";}#sk-container-id-2 div.sk-estimator input.sk-toggleable__control:checked~label.sk-toggleable__label {background-color: #d4ebff;}#sk-container-id-2 div.sk-label input.sk-toggleable__control:checked~label.sk-toggleable__label {background-color: #d4ebff;}#sk-container-id-2 input.sk-hidden--visually {border: 0;clip: rect(1px 1px 1px 1px);clip: rect(1px, 1px, 1px, 1px);height: 1px;margin: -1px;overflow: hidden;padding: 0;position: absolute;width: 1px;}#sk-container-id-2 div.sk-estimator {font-family: monospace;background-color: #f0f8ff;border: 1px dotted black;border-radius: 0.25em;box-sizing: border-box;margin-bottom: 0.5em;}#sk-container-id-2 div.sk-estimator:hover {background-color: #d4ebff;}#sk-container-id-2 div.sk-parallel-item::after {content: \"\";width: 100%;border-bottom: 1px solid gray;flex-grow: 1;}#sk-container-id-2 div.sk-label:hover label.sk-toggleable__label {background-color: #d4ebff;}#sk-container-id-2 div.sk-serial::before {content: \"\";position: absolute;border-left: 1px solid gray;box-sizing: border-box;top: 0;bottom: 0;left: 50%;z-index: 0;}#sk-container-id-2 div.sk-serial {display: flex;flex-direction: column;align-items: center;background-color: white;padding-right: 0.2em;padding-left: 0.2em;position: relative;}#sk-container-id-2 div.sk-item {position: relative;z-index: 1;}#sk-container-id-2 div.sk-parallel {display: flex;align-items: stretch;justify-content: center;background-color: white;position: relative;}#sk-container-id-2 div.sk-item::before, #sk-container-id-2 div.sk-parallel-item::before {content: \"\";position: absolute;border-left: 1px solid gray;box-sizing: border-box;top: 0;bottom: 0;left: 50%;z-index: -1;}#sk-container-id-2 div.sk-parallel-item {display: flex;flex-direction: column;z-index: 1;position: relative;background-color: white;}#sk-container-id-2 div.sk-parallel-item:first-child::after {align-self: flex-end;width: 50%;}#sk-container-id-2 div.sk-parallel-item:last-child::after {align-self: flex-start;width: 50%;}#sk-container-id-2 div.sk-parallel-item:only-child::after {width: 0;}#sk-container-id-2 div.sk-dashed-wrapped {border: 1px dashed gray;margin: 0 0.4em 0.5em 0.4em;box-sizing: border-box;padding-bottom: 0.4em;background-color: white;}#sk-container-id-2 div.sk-label label {font-family: monospace;font-weight: bold;display: inline-block;line-height: 1.2em;}#sk-container-id-2 div.sk-label-container {text-align: center;}#sk-container-id-2 div.sk-container {/* jupyter's `normalize.less` sets `[hidden] { display: none; }` but bootstrap.min.css set `[hidden] { display: none !important; }` so we also need the `!important` here to be able to override the default hidden behavior on the sphinx rendered scikit-learn.org. See: https://github.com/scikit-learn/scikit-learn/issues/21755 */display: inline-block !important;position: relative;}#sk-container-id-2 div.sk-text-repr-fallback {display: none;}</style><div id=\"sk-container-id-2\" class=\"sk-top-container\"><div class=\"sk-text-repr-fallback\"><pre>Pipeline(steps=[(&#x27;scaler&#x27;, StandardScaler()),\n",
       "                (&#x27;classifier&#x27;,\n",
       "                 RandomForestClassifier(class_weight=&#x27;balanced&#x27;))])</pre><b>In a Jupyter environment, please rerun this cell to show the HTML representation or trust the notebook. <br />On GitHub, the HTML representation is unable to render, please try loading this page with nbviewer.org.</b></div><div class=\"sk-container\" hidden><div class=\"sk-item sk-dashed-wrapped\"><div class=\"sk-label-container\"><div class=\"sk-label sk-toggleable\"><input class=\"sk-toggleable__control sk-hidden--visually\" id=\"sk-estimator-id-4\" type=\"checkbox\" ><label for=\"sk-estimator-id-4\" class=\"sk-toggleable__label sk-toggleable__label-arrow\">Pipeline</label><div class=\"sk-toggleable__content\"><pre>Pipeline(steps=[(&#x27;scaler&#x27;, StandardScaler()),\n",
       "                (&#x27;classifier&#x27;,\n",
       "                 RandomForestClassifier(class_weight=&#x27;balanced&#x27;))])</pre></div></div></div><div class=\"sk-serial\"><div class=\"sk-item\"><div class=\"sk-estimator sk-toggleable\"><input class=\"sk-toggleable__control sk-hidden--visually\" id=\"sk-estimator-id-5\" type=\"checkbox\" ><label for=\"sk-estimator-id-5\" class=\"sk-toggleable__label sk-toggleable__label-arrow\">StandardScaler</label><div class=\"sk-toggleable__content\"><pre>StandardScaler()</pre></div></div></div><div class=\"sk-item\"><div class=\"sk-estimator sk-toggleable\"><input class=\"sk-toggleable__control sk-hidden--visually\" id=\"sk-estimator-id-6\" type=\"checkbox\" ><label for=\"sk-estimator-id-6\" class=\"sk-toggleable__label sk-toggleable__label-arrow\">RandomForestClassifier</label><div class=\"sk-toggleable__content\"><pre>RandomForestClassifier(class_weight=&#x27;balanced&#x27;)</pre></div></div></div></div></div></div></div>"
      ],
      "text/plain": [
       "Pipeline(steps=[('scaler', StandardScaler()),\n",
       "                ('classifier',\n",
       "                 RandomForestClassifier(class_weight='balanced'))])"
      ]
     },
     "execution_count": 14,
     "metadata": {},
     "output_type": "execute_result"
    }
   ],
   "source": [
    "# Set up the pipeline\n",
    "pipeline = Pipeline(steps=[\n",
    "    ('scaler', StandardScaler()),\n",
    "    ('classifier', RandomForestClassifier(n_estimators=100, class_weight='balanced'))\n",
    "])\n",
    "pipeline"
   ]
  },
  {
   "attachments": {},
   "cell_type": "markdown",
   "metadata": {},
   "source": [
    "### c) Optimising hyper parameters\n"
   ]
  },
  {
   "cell_type": "code",
   "execution_count": 15,
   "metadata": {},
   "outputs": [],
   "source": [
    "# Set up the parameter grid for GridSearchCV\n",
    "param_grid = {\n",
    "    'classifier__max_depth': [None, 5, 10, 15],\n",
    "}\n",
    "\n",
    "# Optimize the hyperparameters using GridSearchCV\n",
    "grid_search = GridSearchCV(estimator=pipeline,param_grid= param_grid, cv=5)\n"
   ]
  },
  {
   "attachments": {},
   "cell_type": "markdown",
   "metadata": {},
   "source": [
    "### d) Performance metrics for training"
   ]
  },
  {
   "cell_type": "code",
   "execution_count": 16,
   "metadata": {},
   "outputs": [
    {
     "name": "stdout",
     "output_type": "stream",
     "text": [
      "Test accuracy: 1.00\n"
     ]
    }
   ],
   "source": [
    "# Train the model on the entire training set using the selected hyperparameters\n",
    "grid_search.fit(X_train, y_train)\n",
    "best_params = grid_search.best_params_\n",
    "pipeline.set_params(**best_params)\n",
    "pipeline.fit(X_train, y_train)\n",
    "\n",
    "# Evaluate the model on the testing set\n",
    "test_score = pipeline.score(X_test, y_test)\n",
    "print(\"Test accuracy: %0.2f\" % test_score)"
   ]
  },
  {
   "attachments": {},
   "cell_type": "markdown",
   "metadata": {},
   "source": [
    "## 6. Comparison of metrics performance for testing "
   ]
  },
  {
   "attachments": {},
   "cell_type": "markdown",
   "metadata": {},
   "source": [
    "### a) Use of cross validation for both techniques to deal with over-fitting"
   ]
  },
  {
   "cell_type": "code",
   "execution_count": 17,
   "metadata": {},
   "outputs": [
    {
     "name": "stdout",
     "output_type": "stream",
     "text": [
      " LogisticRegression : Accuracy: 0.68 (+/- 0.00)\n",
      " RandomForestClassifier : Accuracy: 1.00 (+/- 0.00)\n"
     ]
    },
    {
     "data": {
      "text/html": [
       "<style>#sk-container-id-3 {color: black;background-color: white;}#sk-container-id-3 pre{padding: 0;}#sk-container-id-3 div.sk-toggleable {background-color: white;}#sk-container-id-3 label.sk-toggleable__label {cursor: pointer;display: block;width: 100%;margin-bottom: 0;padding: 0.3em;box-sizing: border-box;text-align: center;}#sk-container-id-3 label.sk-toggleable__label-arrow:before {content: \"▸\";float: left;margin-right: 0.25em;color: #696969;}#sk-container-id-3 label.sk-toggleable__label-arrow:hover:before {color: black;}#sk-container-id-3 div.sk-estimator:hover label.sk-toggleable__label-arrow:before {color: black;}#sk-container-id-3 div.sk-toggleable__content {max-height: 0;max-width: 0;overflow: hidden;text-align: left;background-color: #f0f8ff;}#sk-container-id-3 div.sk-toggleable__content pre {margin: 0.2em;color: black;border-radius: 0.25em;background-color: #f0f8ff;}#sk-container-id-3 input.sk-toggleable__control:checked~div.sk-toggleable__content {max-height: 200px;max-width: 100%;overflow: auto;}#sk-container-id-3 input.sk-toggleable__control:checked~label.sk-toggleable__label-arrow:before {content: \"▾\";}#sk-container-id-3 div.sk-estimator input.sk-toggleable__control:checked~label.sk-toggleable__label {background-color: #d4ebff;}#sk-container-id-3 div.sk-label input.sk-toggleable__control:checked~label.sk-toggleable__label {background-color: #d4ebff;}#sk-container-id-3 input.sk-hidden--visually {border: 0;clip: rect(1px 1px 1px 1px);clip: rect(1px, 1px, 1px, 1px);height: 1px;margin: -1px;overflow: hidden;padding: 0;position: absolute;width: 1px;}#sk-container-id-3 div.sk-estimator {font-family: monospace;background-color: #f0f8ff;border: 1px dotted black;border-radius: 0.25em;box-sizing: border-box;margin-bottom: 0.5em;}#sk-container-id-3 div.sk-estimator:hover {background-color: #d4ebff;}#sk-container-id-3 div.sk-parallel-item::after {content: \"\";width: 100%;border-bottom: 1px solid gray;flex-grow: 1;}#sk-container-id-3 div.sk-label:hover label.sk-toggleable__label {background-color: #d4ebff;}#sk-container-id-3 div.sk-serial::before {content: \"\";position: absolute;border-left: 1px solid gray;box-sizing: border-box;top: 0;bottom: 0;left: 50%;z-index: 0;}#sk-container-id-3 div.sk-serial {display: flex;flex-direction: column;align-items: center;background-color: white;padding-right: 0.2em;padding-left: 0.2em;position: relative;}#sk-container-id-3 div.sk-item {position: relative;z-index: 1;}#sk-container-id-3 div.sk-parallel {display: flex;align-items: stretch;justify-content: center;background-color: white;position: relative;}#sk-container-id-3 div.sk-item::before, #sk-container-id-3 div.sk-parallel-item::before {content: \"\";position: absolute;border-left: 1px solid gray;box-sizing: border-box;top: 0;bottom: 0;left: 50%;z-index: -1;}#sk-container-id-3 div.sk-parallel-item {display: flex;flex-direction: column;z-index: 1;position: relative;background-color: white;}#sk-container-id-3 div.sk-parallel-item:first-child::after {align-self: flex-end;width: 50%;}#sk-container-id-3 div.sk-parallel-item:last-child::after {align-self: flex-start;width: 50%;}#sk-container-id-3 div.sk-parallel-item:only-child::after {width: 0;}#sk-container-id-3 div.sk-dashed-wrapped {border: 1px dashed gray;margin: 0 0.4em 0.5em 0.4em;box-sizing: border-box;padding-bottom: 0.4em;background-color: white;}#sk-container-id-3 div.sk-label label {font-family: monospace;font-weight: bold;display: inline-block;line-height: 1.2em;}#sk-container-id-3 div.sk-label-container {text-align: center;}#sk-container-id-3 div.sk-container {/* jupyter's `normalize.less` sets `[hidden] { display: none; }` but bootstrap.min.css set `[hidden] { display: none !important; }` so we also need the `!important` here to be able to override the default hidden behavior on the sphinx rendered scikit-learn.org. See: https://github.com/scikit-learn/scikit-learn/issues/21755 */display: inline-block !important;position: relative;}#sk-container-id-3 div.sk-text-repr-fallback {display: none;}</style><div id=\"sk-container-id-3\" class=\"sk-top-container\"><div class=\"sk-text-repr-fallback\"><pre>Pipeline(steps=[(&#x27;scaler&#x27;, StandardScaler()),\n",
       "                (&#x27;classifier&#x27;,\n",
       "                 RandomForestClassifier(class_weight=&#x27;balanced&#x27;))])</pre><b>In a Jupyter environment, please rerun this cell to show the HTML representation or trust the notebook. <br />On GitHub, the HTML representation is unable to render, please try loading this page with nbviewer.org.</b></div><div class=\"sk-container\" hidden><div class=\"sk-item sk-dashed-wrapped\"><div class=\"sk-label-container\"><div class=\"sk-label sk-toggleable\"><input class=\"sk-toggleable__control sk-hidden--visually\" id=\"sk-estimator-id-7\" type=\"checkbox\" ><label for=\"sk-estimator-id-7\" class=\"sk-toggleable__label sk-toggleable__label-arrow\">Pipeline</label><div class=\"sk-toggleable__content\"><pre>Pipeline(steps=[(&#x27;scaler&#x27;, StandardScaler()),\n",
       "                (&#x27;classifier&#x27;,\n",
       "                 RandomForestClassifier(class_weight=&#x27;balanced&#x27;))])</pre></div></div></div><div class=\"sk-serial\"><div class=\"sk-item\"><div class=\"sk-estimator sk-toggleable\"><input class=\"sk-toggleable__control sk-hidden--visually\" id=\"sk-estimator-id-8\" type=\"checkbox\" ><label for=\"sk-estimator-id-8\" class=\"sk-toggleable__label sk-toggleable__label-arrow\">StandardScaler</label><div class=\"sk-toggleable__content\"><pre>StandardScaler()</pre></div></div></div><div class=\"sk-item\"><div class=\"sk-estimator sk-toggleable\"><input class=\"sk-toggleable__control sk-hidden--visually\" id=\"sk-estimator-id-9\" type=\"checkbox\" ><label for=\"sk-estimator-id-9\" class=\"sk-toggleable__label sk-toggleable__label-arrow\">RandomForestClassifier</label><div class=\"sk-toggleable__content\"><pre>RandomForestClassifier(class_weight=&#x27;balanced&#x27;)</pre></div></div></div></div></div></div></div>"
      ],
      "text/plain": [
       "Pipeline(steps=[('scaler', StandardScaler()),\n",
       "                ('classifier',\n",
       "                 RandomForestClassifier(class_weight='balanced'))])"
      ]
     },
     "execution_count": 17,
     "metadata": {},
     "output_type": "execute_result"
    }
   ],
   "source": [
    "# Define the inner and outer cross-validation\n",
    "inner_cv = KFold(n_splits=5, shuffle=True)\n",
    "outer_cv = KFold(n_splits=5, shuffle=True)\n",
    "\n",
    "\n",
    "# Optimize the hyperparameters using GridSearchCV \n",
    "grid_search_LR = GridSearchCV(estimator=pipelineLR,param_grid= param_grid_LR, cv=inner_cv)\n",
    "scores_LR = cross_val_score(grid_search_LR, X_train, y_train, cv=outer_cv)\n",
    "\n",
    "# Optimize the hyperparameters using GridSearchCV\n",
    "grid_search = GridSearchCV(estimator=pipeline,param_grid= param_grid, cv=inner_cv)\n",
    "scores = cross_val_score(grid_search, X_train, y_train, cv=outer_cv)\n",
    "\n",
    "\n",
    "# Print the mean score and standard deviation\n",
    "print(\" LogisticRegression : Accuracy: %0.2f (+/- %0.2f)\" % (scores_LR.mean(), scores_LR.std() * 2))\n",
    "print(\" RandomForestClassifier : Accuracy: %0.2f (+/- %0.2f)\" % (scores.mean(), scores.std() * 2))\n",
    "# Train the model on the entire training set using the selected hyperparameters\n",
    "grid_search.fit(X_train, y_train)\n",
    "grid_search_LR.fit(X_train, y_train)\n",
    "best_params = grid_search.best_params_\n",
    "best_params_LR = grid_search_LR.best_params_\n",
    "pipelineLR.set_params(**best_params_LR)\n",
    "pipelineLR.fit(X_train, y_train)\n",
    "pipeline.set_params(**best_params)\n",
    "pipeline.fit(X_train, y_train)\n"
   ]
  },
  {
   "attachments": {},
   "cell_type": "markdown",
   "metadata": {},
   "source": [
    "### b) Comparison with appropriate metrics for testing"
   ]
  },
  {
   "cell_type": "code",
   "execution_count": 18,
   "metadata": {},
   "outputs": [
    {
     "name": "stdout",
     "output_type": "stream",
     "text": [
      "LogisticRegression : Test accuracy: 0.678\n",
      "RandomForestClassifier : Test accuracy: 1.000\n"
     ]
    }
   ],
   "source": [
    "# Evaluate the model on the testing set\n",
    "test_score_LR = pipelineLR.score(X_test, y_test)\n",
    "test_score = pipeline.score(X_test, y_test)\n",
    "print(\"LogisticRegression : Test accuracy: %0.3f\" % test_score_LR)\n",
    "print(\"RandomForestClassifier : Test accuracy: %0.3f\" % test_score)"
   ]
  },
  {
   "attachments": {},
   "cell_type": "markdown",
   "metadata": {},
   "source": [
    "### c) Model selection (ROC or other charts)"
   ]
  },
  {
   "cell_type": "code",
   "execution_count": 19,
   "metadata": {},
   "outputs": [
    {
     "data": {
      "image/png": "[encoded data removed]",
      "text/plain": [
       "<Figure size 640x480 with 2 Axes>"
      ]
     },
     "metadata": {},
     "output_type": "display_data"
    }
   ],
   "source": [
    "from sklearn.metrics import confusion_matrix\n",
    "import matplotlib.pyplot as plt\n",
    "\n",
    "pipelineLR.fit(X_train, y_train)\n",
    "pipeline.fit(X_train, y_train)\n",
    "# Access the trained models inside the pipeline\n",
    "logreg = pipelineLR.named_steps['classifier']\n",
    "rf = pipeline.named_steps['classifier']\n",
    "\n",
    "# Predict the target for the test data\n",
    "y_pred_logreg = pipelineLR.predict(X_test)\n",
    "y_pred_rf = pipeline.predict(X_test)\n",
    "\n",
    "# Create the confusion matrices.\n",
    "cm_LR = confusion_matrix(y_test, y_pred_logreg,labels=[0,1])\n",
    "cm_rf = confusion_matrix(y_test, y_pred_rf,labels=[0,1])\n",
    "\n",
    "# Plot the confusion matrices.\n",
    "\n",
    "plt.imshow(cm_LR, cmap='Blues')\n",
    "plt.colorbar()\n",
    "plt.xlabel('Predicted')\n",
    "plt.ylabel('True')\n",
    "plt.title('Confusion matrix for Logistic Regression')\n",
    "plt.show()\n",
    "\n"
   ]
  },
  {
   "cell_type": "code",
   "execution_count": 20,
   "metadata": {},
   "outputs": [
    {
     "data": {
      "text/plain": [
       "Text(0.5, 1.0, 'Confusion matrix for Random Forest')"
      ]
     },
     "execution_count": 20,
     "metadata": {},
     "output_type": "execute_result"
    },
    {
     "data": {
      "image/png": "[encoded data removed]",
      "text/plain": [
       "<Figure size 640x480 with 2 Axes>"
      ]
     },
     "metadata": {},
     "output_type": "display_data"
    }
   ],
   "source": [
    "\n",
    "plt.imshow(cm_rf, cmap='Blues')\n",
    "plt.colorbar()\n",
    "plt.xlabel('Predicted')\n",
    "plt.ylabel('True')\n",
    "plt.title('Confusion matrix for Random Forest')\n",
    "\n"
   ]
  },
  {
   "cell_type": "code",
   "execution_count": 21,
   "metadata": {},
   "outputs": [
    {
     "name": "stdout",
     "output_type": "stream",
     "text": [
      "Precision, recall, and F1 score of logistic regression:  0.4379718424811263 0.6988442129252808 0.5384760112888053\n",
      "Precision, recall, and F1 score of random forest:  0.9993488523522709 0.9993488523522709 0.9993488523522709\n"
     ]
    }
   ],
   "source": [
    "from sklearn.metrics import accuracy_score\n",
    "from sklearn.metrics import precision_score, recall_score, f1_score\n",
    "# Calculate the precision, recall, and F1 score for logistic regression\n",
    "precision_logreg = precision_score(y_test, y_pred_logreg)\n",
    "recall_logreg = recall_score(y_test, y_pred_logreg)\n",
    "f1_logreg = f1_score(y_test, y_pred_logreg)\n",
    "\n",
    "# Calculate the precision, recall, and F1 score for random forest\n",
    "precision_rf = precision_score(y_test, y_pred_rf)\n",
    "recall_rf = recall_score(y_test, y_pred_rf)\n",
    "f1_rf = f1_score(y_test, y_pred_rf)\n",
    "\n",
    "# Print the precision, recall, and F1 score\n",
    "print('Precision, recall, and F1 score of logistic regression: ', precision_logreg, recall_logreg, f1_logreg)\n",
    "print('Precision, recall, and F1 score of random forest: ', precision_rf, recall_rf, f1_rf)\n"
   ]
  },
  {
   "cell_type": "code",
   "execution_count": 22,
   "metadata": {},
   "outputs": [
    {
     "name": "stdout",
     "output_type": "stream",
     "text": [
      "Classification report for logistic regression:\n",
      "              precision    recall  f1-score   support\n",
      "\n",
      "           0       0.86      0.67      0.75     16713\n",
      "           1       0.44      0.70      0.54      6143\n",
      "\n",
      "    accuracy                           0.68     22856\n",
      "   macro avg       0.65      0.68      0.65     22856\n",
      "weighted avg       0.75      0.68      0.70     22856\n",
      "\n",
      "Classification report for random forest:\n",
      "              precision    recall  f1-score   support\n",
      "\n",
      "           0       1.00      1.00      1.00     16713\n",
      "           1       1.00      1.00      1.00      6143\n",
      "\n",
      "    accuracy                           1.00     22856\n",
      "   macro avg       1.00      1.00      1.00     22856\n",
      "weighted avg       1.00      1.00      1.00     22856\n",
      "\n"
     ]
    }
   ],
   "source": [
    "from sklearn.metrics import classification_report\n",
    "\n",
    "# Calculate the classification report for the logistic regression model.\n",
    "report_lr = classification_report(y_test, y_pred_logreg)\n",
    "\n",
    "# Calculate the classification report for the random forest model.\n",
    "report_rf = classification_report(y_test, y_pred_rf)\n",
    "\n",
    "print('Classification report for logistic regression:')\n",
    "print(report_lr)\n",
    "\n",
    "print('Classification report for random forest:')\n",
    "print(report_rf)\n"
   ]
  },
  {
   "attachments": {},
   "cell_type": "markdown",
   "metadata": {},
   "source": [
    "## 7. Final recommendation of best model"
   ]
  },
  {
   "attachments": {},
   "cell_type": "markdown",
   "metadata": {},
   "source": [
    "### a) Discussion of the results from a technical perspective, for example, overfitting discussion, complexity and efficiency\n",
    "\n",
    "\n",
    "The results show that the random forest model has a higher precision, recall, and F1 score than the logistic regression model. This means that the random forest model is more accurate and precise at predicting the positive cases.\n",
    "\n",
    "The logistic regression model has a precision of 0.4465, which means that it correctly predicts 44.65% of the positive cases. The recall of the logistic regression model is 0.7029, which means that it correctly predicts 70.29% of the positive cases. The F1 score of the logistic regression model is 0.5461, which is a weighted average of the precision and recall.\n",
    "\n",
    "The random forest model has a precision of 0.9993, which means that it correctly predicts 99.93% of the positive cases. The recall of the random forest model is 0.9988, which means that it correctly predicts 99.88% of the positive cases. The F1 score of the random forest model is 0.9991, which is a weighted average of the precision and recall. Due to the computationally expensive and complex of random forest model in this case it might be overfitting to the training data and it took very long to run through the GridSearch for tuning to find the best parameters to prevent such case.\n",
    "\n",
    "The difference in performance between the two models is likely due to the fact that the random forest model is a more complex model. The random forest model has multiple decision trees, which allows it to learn more complex relationships between the features and the target variable.\n",
    "\n",
    "The logistic regression model is a simpler model, which means that it is less likely to overfit the training data. However, the logistic regression model is also less likely to learn as complex relationships between the features and the target variable.\n",
    "\n",
    "In this case, the random forest model is a better choice because it has a higher precision, recall, and F1 score. However, the logistic regression model may be a better choice if the dataset is small or if the model needs to be interpretable.\n"
   ]
  },
  {
   "attachments": {},
   "cell_type": "markdown",
   "metadata": {},
   "source": [
    "### b) Discuss the results from a business perspective, for example, results interpretation, relevance and balance with technical perspective\n",
    "\n",
    "The Random Forest model performed well in identifying fraudulent claims with high accuracy, recall, and F1 score. However, it can be computationally expensive and complex when handling large datasets. This may slow down decision-making and require more resources. It's also difficult to understand how the model makes decisions, which may not be suitable when explanations are needed.\n",
    "\n",
    "\n",
    "On the other hand, the Logistic Regression model is simpler, more efficient, and easier to interpret, although it has slightly lower performance. It's a good choice when computational resources are limited or interpretability is important. As from the result above, the Logistic Regression model has a total error rate of 1-0.69 = 31%. However, it might can increase the accuracy by tuning the hyperparameters.\n",
    "\n",
    "\n",
    "In summary, while the Random Forest model has better performance, the choice between models should consider factors like computation time, resources, interpretability, and the costs associated with false positives and false negatives."
   ]
  },
  {
   "attachments": {},
   "cell_type": "markdown",
   "metadata": {},
   "source": [
    "## 8. Conclusion "
   ]
  },
  {
   "attachments": {},
   "cell_type": "markdown",
   "metadata": {},
   "source": [
    "### a) What has been successfully accomplished and what has not been successful?\n",
    "Accomplished Objectives:\n",
    "\n",
    "Development of Prediction Models: Have successfully created two prediction models, namely Logistic Regression and Random Forest, to identify potential instances of fraudulent claims.\n",
    "\n",
    "Evaluation of Model Performance: Have assessed the performance of both models using appropriate metrics such as precision, recall, and F1 score.\n",
    "\n",
    "Achieving High Accuracy and Precision: The Random Forest model has demonstrated excellent precision, recall, and F1 score, indicating its effectiveness in identifying fraudulent claims while minimizing false positives.\n",
    "\n",
    "Unsuccessful Aspects:\n",
    "\n",
    "Attaining the Desired Error Rate: It remains uncertain whether to have achieved the desired balanced error rate of 5% set by the client. To determine this, needed to evaluate additional metrics such as the false positive rate and false negative rate.\n",
    "\n",
    "Quantification of Loss: Have not yet addressed or accomplished the task of quantifying the financial impact caused by errors in our predictive model. It is crucial to determine the potential consequences of misclassifying claims (both false positives and false negatives) on the company's financial well-being.\n"
   ]
  },
  {
   "attachments": {},
   "cell_type": "markdown",
   "metadata": {},
   "source": [
    "### b) Reflecting back on the analysis, what could you have done differently if you were to do the project again?\n",
    "Upon reflection of the project, there are various potential enhancements and alternative approaches that could be considered for future iterations:\n",
    "\n",
    "Exploratory Data Analysis (EDA): Although not explicitly mentioned, conducting a comprehensive EDA is essential. This would involve thoroughly analyzing the data to gain deeper insights, identify patterns and correlations, and potentially detect any outliers or anomalies. EDA would also aid in the selection and engineering of relevant features.\n",
    "\n",
    "Model Selection and Experimentation: Alongside Logistic Regression and Random Forest, exploring other algorithms such as Gradient Boosting, Support Vector Machines (SVM), or neural networks could be worthwhile. This exploration might yield improved results or provide alternative options that strike a balance between accuracy and complexity.\n",
    "\n",
    "Hyperparameter Tuning: Depending on the available computational resources, further refinement of the selected models through hyperparameter tuning could enhance their performance.\n"
   ]
  },
  {
   "attachments": {},
   "cell_type": "markdown",
   "metadata": {},
   "source": [
    "### c) Provide a wish list of future work that you would like to do\n"
   ]
  },
  {
   "attachments": {},
   "cell_type": "markdown",
   "metadata": {},
   "source": [
    "Here's a list of future tasks that could enhance this project:\n",
    "\n",
    "Dataset Expansion: Obtain additional data or different types of data (such as text data from claim descriptions, geolocation data, or time-series data) to potentially reveal more insights and enhance the model's performance.\n",
    "\n",
    "Real-Time Fraud Detection: Develop a system for real-time fraud detection that can promptly identify and flag fraudulent claims upon submission. This could greatly reduce processing time and expenses.\n",
    "\n",
    "Deep Learning Models: Explore the utilization of deep learning models for prediction. Although these models require substantial data and computational resources, they have the potential to improve accuracy, particularly when dealing with complex or unstructured data."
   ]
  }
 ],
 "metadata": {
  "kernelspec": {
   "display_name": "Python 3 (ipykernel)",
   "language": "python",
   "name": "python3"
  },
  "language_info": {
   "codemirror_mode": {
    "name": "ipython",
    "version": 3
   },
   "file_extension": ".py",
   "mimetype": "text/x-python",
   "name": "python",
   "nbconvert_exporter": "python",
   "pygments_lexer": "ipython3",
   "version": "3.10.0"
  }
 },
 "nbformat": 4,
 "nbformat_minor": 2
}
